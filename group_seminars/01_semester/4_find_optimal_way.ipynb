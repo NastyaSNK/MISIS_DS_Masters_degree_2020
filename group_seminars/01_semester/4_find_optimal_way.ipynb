{
  "nbformat": 4,
  "nbformat_minor": 0,
  "metadata": {
    "colab": {
      "name": "9_komanda_zadacha_2.ipynb",
      "provenance": [],
      "collapsed_sections": []
    },
    "kernelspec": {
      "name": "python3",
      "display_name": "Python 3"
    }
  },
  "cells": [
    {
      "cell_type": "markdown",
      "metadata": {
        "id": "aCIeWG3o1ENU"
      },
      "source": [
        "#Задача 2. Иду напролом\n",
        "<img src=\"https://i.lensdump.com/i/AMp9Ib.gif\"><br>\n",
        "Представьте себе ситуацию: даны города, между некоторыми из которых проложены дороги, при этом, известны длины этих дорог. Нужно найти оптимальные расстояния между всеми парами городов - потому что иногда  выгоднее добираться из одного города в другой не напрямую, а через другие города.\n",
        "\n",
        "Исходные данные задаются в виде матрицы A с размерами NxN. Элемент A[i][j] равен длине дороги между городом i и городом j, если она существует, и -1 в противном случае.\n",
        "\n",
        "В результате программа должна выдать матрицу такой же формы, в которой в элементе A[i][j] будет содержаться длина оптимального пути между i и j.\n",
        "\n",
        "Это классическая задача теории графов, которая решается алгоритмом Флойда. Вам нужно последовательно “разрешать” проходить через очередной город, сначала через первый, потом через второй, и так далее. Обратите внимание на сходство между умножением матриц и этим алгоритмом: должен получиться практически такой же код! Разница будет в том, что при умножении матриц вы складываете произведения A[i][k]*B[k][j], а в алгоритме Флойда вы выбираете минимум из A[i][j] и A[i][k]+A[k][j].\n",
        "\n",
        "Результат: В этой задаче вам нужно написать программу, которая принимает двумерную матрицу A, у которой в элементе A[i][j] лежит расстояние между городами i и j либо -1, если прямого пути из i в j не существует. Программа должна выдавать матрицу кратчайшими путями между всеми вершинами в таком же виде.\n",
        "\n",
        "\n",
        "###Пример входных данных:\n",
        "![image.png](data:image/png;base64,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)\n",
        "\n",
        "###Пример результата:\n",
        "\n",
        "![image.png](data:image/png;base64,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)\n",
        "\n",
        "Время выполнения алгоритма Флойда-Уоршала $О (| V | ^ {3})$, V-количество вершин"
      ]
    },
    {
      "cell_type": "code",
      "metadata": {
        "id": "thtV8Ii8zqWb",
        "colab": {
          "base_uri": "https://localhost:8080/"
        },
        "outputId": "2be11952-5caf-4417-ba25-561f968c055e"
      },
      "source": [
        "import numpy as np\n",
        "import pandas as pd\n",
        "import time \n",
        "start_time = time.time()\n",
        "W = np.array([[0,100,-1,1],[100,0,50,3],[-1,50,0,20],[1,3,20,0]])\n",
        "#W = np.where(W==-1, np.inf,W) \n",
        "W"
      ],
      "execution_count": null,
      "outputs": [
        {
          "output_type": "execute_result",
          "data": {
            "text/plain": [
              "array([[  0, 100,  -1,   1],\n",
              "       [100,   0,  50,   3],\n",
              "       [ -1,  50,   0,  20],\n",
              "       [  1,   3,  20,   0]])"
            ]
          },
          "metadata": {
            "tags": []
          },
          "execution_count": 6
        }
      ]
    },
    {
      "cell_type": "code",
      "metadata": {
        "id": "3oue9C35FfBK",
        "colab": {
          "base_uri": "https://localhost:8080/"
        },
        "outputId": "c00c02af-dc6c-46d7-c1b1-b571c7455ee9"
      },
      "source": [
        "W[0,0]"
      ],
      "execution_count": null,
      "outputs": [
        {
          "output_type": "execute_result",
          "data": {
            "text/plain": [
              "0"
            ]
          },
          "metadata": {
            "tags": []
          },
          "execution_count": 7
        }
      ]
    },
    {
      "cell_type": "code",
      "metadata": {
        "id": "x2YdsKYk-TlH"
      },
      "source": [
        "def inf_if_negative(W):\n",
        "    \"\"\"Функция, заменяющая отрицательные значения\n",
        "    в массиве numpy.ndarray на бесконечность (inf)\n",
        "    \"\"\"\n",
        "    return np.where(W==-1, np.inf,W)"
      ],
      "execution_count": null,
      "outputs": []
    },
    {
      "cell_type": "code",
      "metadata": {
        "id": "G4s9Yp3I-Z9u",
        "colab": {
          "base_uri": "https://localhost:8080/"
        },
        "outputId": "f8458636-a9dd-4df6-bb45-c22349a5aa51"
      },
      "source": [
        "W = inf_if_negative(W)\n",
        "W"
      ],
      "execution_count": null,
      "outputs": [
        {
          "output_type": "execute_result",
          "data": {
            "text/plain": [
              "array([[  0., 100.,  inf,   1.],\n",
              "       [100.,   0.,  50.,   3.],\n",
              "       [ inf,  50.,   0.,  20.],\n",
              "       [  1.,   3.,  20.,   0.]])"
            ]
          },
          "metadata": {
            "tags": []
          },
          "execution_count": 9
        }
      ]
    },
    {
      "cell_type": "code",
      "metadata": {
        "id": "b_TbPflF1S35"
      },
      "source": [
        "def floyd_algorithm(W):\n",
        "    \"\"\"Алгоритм Флойда-Уоршелла — нахождениe самых коротких расстояний между\n",
        "    всеми вершинами взвешенного графа без циклов с отрицательными весами,\n",
        "    с использованием метода динамического программирования.\n",
        "\n",
        "    Входные данные\n",
        "    -----------\n",
        "    W (numpy.ndarray) - матрица смежности графа(аdjacency matrix), np.inf указывает на отсутствие ребер между вершинами графа,\n",
        "                       расстояние от вершины до самой себя - 0\n",
        "    \n",
        "    Результат\n",
        "    -----------\n",
        "    W (numpy.ndarray) - матрица кратчайших расстояний\n",
        "    \"\"\"\n",
        "    \n",
        "    n = W.shape[1]#-количество столбцов в матрице\n",
        "    for k in range(n):\n",
        "        for i in range(n):\n",
        "            for j in range(n):\n",
        "                W[i][j] = min(W[i][j], W[i][k] + W[k][j])\n",
        "    # проверка на отрицательные циклы, выключена для сравнения времени работы с др алгоритмами\n",
        "                # if i == j and W[i][j] < 0:\n",
        "                #     return k, i,j,  'найден отрицательный цикл'\n",
        "    return W"
      ],
      "execution_count": null,
      "outputs": []
    },
    {
      "cell_type": "code",
      "metadata": {
        "id": "h13bw7hQ8reg",
        "colab": {
          "base_uri": "https://localhost:8080/"
        },
        "outputId": "c90b2bb5-1d04-4d81-f4e8-569db9d2180c"
      },
      "source": [
        "floyd_algorith(W)"
      ],
      "execution_count": null,
      "outputs": [
        {
          "output_type": "execute_result",
          "data": {
            "text/plain": [
              "array([[ 0.,  4., 21.,  1.],\n",
              "       [ 4.,  0., 23.,  3.],\n",
              "       [21., 23.,  0., 20.],\n",
              "       [ 1.,  3., 20.,  0.]])"
            ]
          },
          "metadata": {
            "tags": []
          },
          "execution_count": 44
        }
      ]
    },
    {
      "cell_type": "code",
      "metadata": {
        "id": "5dUZp8yjqfsY",
        "colab": {
          "base_uri": "https://localhost:8080/"
        },
        "outputId": "72079cbb-329a-4ff3-ee16-2ab573deaf33"
      },
      "source": [
        "%timeit floyd_algorith(W)"
      ],
      "execution_count": null,
      "outputs": [
        {
          "output_type": "stream",
          "text": [
            "10000 loops, best of 3: 97.9 µs per loop\n"
          ],
          "name": "stdout"
        }
      ]
    },
    {
      "cell_type": "code",
      "metadata": {
        "id": "jG7G9LNo8sPf",
        "colab": {
          "base_uri": "https://localhost:8080/"
        },
        "outputId": "92999172-4c9d-45b5-9ffa-baf71d215ad1"
      },
      "source": [
        "# Пример графа с отрицательным циклом\n",
        "# Цикл - начинаем перемещение из некоторого узла, перемещаемся по графу и снова оказываемся в этом узле. Ненаправленный граф также является примером цикла\n",
        "#            1 \n",
        "#    (0)----------->(1) \n",
        "#    /|\\               | \n",
        "#     |               | \n",
        "#  -1 |               | -1 \n",
        "#     |                \\|/ \n",
        "#    (3)<-----------(2) \n",
        "#        -1     '''         \n",
        "  \n",
        "graph_neg = np.array([ [0, 1, np.inf, np.inf], \n",
        "          [np.inf, 0, -1, np.inf], \n",
        "          [np.inf, np.inf, 0, -1], \n",
        "          [-1, np.inf, np.inf, 0]])\n",
        "\n",
        "def floyd_algorithm_with_neg(W):\n",
        "    \"\"\"Алгоритм Флойда-Уоршелла — нахождениe самых коротких расстояний между\n",
        "    всеми вершинами взвешенного графа без циклов с отрицательными весами,\n",
        "    с использованием метода динамического программирования.\n",
        "\n",
        "    Входные данные\n",
        "    -----------\n",
        "    W (numpy.ndarray) - матрица смежности графа(аdjacency matrix), np.inf указывает на отсутствие ребер между вершинами графа,\n",
        "                       расстояние от вершины до самой себя - 0\n",
        "    \n",
        "    Результат\n",
        "    -----------\n",
        "    W (numpy.ndarray) - матрица кратчайших расстояний\n",
        "    \"\"\"\n",
        "    \n",
        "    n = W.shape[1]#-количество столбцов в матрице\n",
        "    for k in range(n):\n",
        "        for i in range(n):\n",
        "            for j in range(n):\n",
        "                W[i][j] = min(W[i][j], W[i][k] + W[k][j])\n",
        "    # проверка на отрицательные циклы, выключена для сравнения времени работы с др алгоритмами\n",
        "                if i == j and W[i][j] < 0:\n",
        "                    return k, i,j,  'найден отрицательный цикл'\n",
        "    return W\n",
        "\n",
        "floyd_algorithm_with_neg(graph_neg)"
      ],
      "execution_count": null,
      "outputs": [
        {
          "output_type": "execute_result",
          "data": {
            "text/plain": [
              "(2, 3, 3, 'найден отрицательный цикл')"
            ]
          },
          "metadata": {
            "tags": []
          },
          "execution_count": 51
        }
      ]
    },
    {
      "cell_type": "markdown",
      "metadata": {
        "id": "v0zf4vqZpIE4"
      },
      "source": [
        "## Иные алгоритмы поиска оптимального пути|кратчайшего расстояния.\n",
        "\n",
        "**Цель:** разобрать основные алгоритмы поиска кратчайшего пути. Их pros%cons\n"
      ]
    },
    {
      "cell_type": "markdown",
      "metadata": {
        "id": "GhsyfgRLpb6v"
      },
      "source": [
        "## 1. [Алгоритм Дейкстры](https://en.wikipedia.org/wiki/Dijkstra%27s_algorithm)\n",
        "\n",
        "<font color=red>Работает только с  ациклическими графами (DAG - Directed Acyclic Graph) у которых вес ребер положительный </font>\n",
        "\n",
        "1. Изначально все вершины считаются непосещенными и расстояние до них счиется бесконечностью\n",
        "2. Выбираем стартовую вершину для которой и будем искать оптимальные пути. Расстояние от вершины до самой себя принимаем за 0\n",
        "1. От стартовой вершины графа проверяем расстояние до ее соседей, выбирает кратчайшее\n",
        "2. Для вершины к которой идет кратчайшее ребро пересчитывает расстояние до соседей с учетом уже выбранного минимального и выбираем среди всех кратчайшее. Вершина, выбранная начальной, считается посещенной и больше не рассматривается в качестве начальной вершины повторяем шаг 2 пока не посетим все вершины графа\n",
        "\n",
        "В простейшем случае, когда для поиска вершины с минимальным d[v] просматривается всё множество вершин, а для хранения величин d используется массив, время работы алгоритма есть **$ O(V^{2})$** для поиска расстояний.\n",
        "\n",
        "Однако работа алгоритма может быть ускорена до $O (E + V*log V)$, V- вершины, E - ребра"
      ]
    },
    {
      "cell_type": "code",
      "metadata": {
        "id": "VWYAJIaRXdSI",
        "colab": {
          "base_uri": "https://localhost:8080/"
        },
        "outputId": "469f7ad8-5e07-401f-addd-cc5de33b8385"
      },
      "source": [
        "def Dijkstra(Node,w):\n",
        "    \n",
        "    \n",
        "    \"\"\"\n",
        "    Алгоритм Дейкстры поиска кратчайшего пути от точки до других точек графа.\n",
        "    Работает только с направленными ациклическими графами (DAG - Directed Acyclic Graph) у которых вес ребер положительный\n",
        "    \n",
        "    Входные данные:\n",
        "    _ _ _ _ _ _ _ _\n",
        "    Node (int)          - номер начального узла для анализа\n",
        "    w (numpy.ndarray)   - матрица смежности графа(аdjacency matrix), np.inf указывает на отсутствие ребер между вершинами графа,\n",
        "                          расстояние от вершины до самой себя - 0\n",
        "    \n",
        "    \n",
        "    Результат:\n",
        "    _ _ _ _ _ _ _ _\n",
        "    dist (list)          -расстояния от заданной точки до остальных вершин графа, включая исходную,\n",
        "                          индекс списка соответсвует индексу вершины\n",
        "    \"\"\"\n",
        "    \n",
        "    \n",
        "    N = w.shape[0]\n",
        "    INF = np.inf\n",
        "    dist = np.array([INF] * N)\n",
        "    dist[Node] = 0 # кратчайшее расстояние от вершины до самой себя 0\n",
        "    used = [False] * N # список использованных вершин\n",
        "    min_dist = 0\n",
        "    min_vertex = Node \n",
        "    while min_dist < INF:\n",
        "#     for z in range(N):\n",
        "        i = min_vertex\n",
        "        used[i] = True\n",
        "        for j in range(N):\n",
        "            if dist[i] + w[i][j] < dist[j]:\n",
        "                dist[j] = dist[i] + w[i][j]\n",
        "        min_dist = INF\n",
        "        for j in range(N):\n",
        "            if not used[j] and dist[j] < min_dist:\n",
        "                min_dist = dist[j]\n",
        "                min_vertex = j\n",
        "    return dist\n",
        "        \n",
        "#Применяем алгоритм Дейкстеры ко всем точкам графа\n",
        "\n",
        "def Dijkstra_for_all_vertex(matrix):\n",
        "    \"\"\"\n",
        "    Применяет алгоритм Дейкстры ко всем вершинам графа\n",
        "    \n",
        "    Входные данные:\n",
        "    _ _ _ _ _ _ _ _\n",
        "    matrix(np.array) - матрица смежности графа(аdjacency matrix), np.inf указывает на отсутствие ребер между вершинами графа,\n",
        "                       расстояние от вершины до самой себя - 0\n",
        "                       \n",
        "    Результат:\n",
        "    _ _ _ _ _ _ _ _\n",
        "    np.array - матрица кратчайших расстояний между вершинами графа\n",
        "    \n",
        "    \"\"\"\n",
        "    \n",
        "    final_optimal_route_list = []\n",
        "    for i in range(matrix.shape[0]):\n",
        "        final_optimal_route_list.append(Dijkstra(i,matrix))\n",
        "    return np.vstack(final_optimal_route_list)\n",
        "\n",
        "Dijkstra_for_all_vertex(W)"
      ],
      "execution_count": null,
      "outputs": [
        {
          "output_type": "execute_result",
          "data": {
            "text/plain": [
              "array([[ 0.,  4., 21.,  1.],\n",
              "       [ 4.,  0., 23.,  3.],\n",
              "       [21., 23.,  0., 20.],\n",
              "       [ 1.,  3., 20.,  0.]])"
            ]
          },
          "metadata": {
            "tags": []
          },
          "execution_count": 46
        }
      ]
    },
    {
      "cell_type": "code",
      "metadata": {
        "id": "h16Fx9Bwqn8Y",
        "colab": {
          "base_uri": "https://localhost:8080/"
        },
        "outputId": "7889d124-a9d0-4372-e055-9f64bd4b6324"
      },
      "source": [
        "%timeit Dijkstra_for_all_vertex(W)"
      ],
      "execution_count": null,
      "outputs": [
        {
          "output_type": "stream",
          "text": [
            "10000 loops, best of 3: 97.2 µs per loop\n"
          ],
          "name": "stdout"
        }
      ]
    },
    {
      "cell_type": "markdown",
      "metadata": {
        "id": "WVeIHDvlqw_a"
      },
      "source": [
        "**Вывод:** Алгоритм Дейкстры имеет время выполнения близкое к времени выполнения алгоритма Флойда-Уоршалла, что ожидаемо. Но стоит помнить про ограничения данного метода и возможность ускорения времени его работы."
      ]
    },
    {
      "cell_type": "markdown",
      "metadata": {
        "id": "psO8tgE-4L1u"
      },
      "source": [
        "## 2. [Поиск в ширину](https://ru.wikipedia.org/wiki/Поиск_в_ширину)\n",
        "Позволяет определить есть ли путь из точки А в точку B. Если такой путь существует, то находит кратчайший путь (с минимальным количество сегментов)\n",
        "Работает для невзвешенных ориентированных, неориентированных графов.\n",
        "\n",
        "[Алгоритм построен на простой идее — пусть до какой-то вершины u найдено кратчайшее расстояние и оно равно d, а до вершины v кратчайшее расстояние не меньше, чем d. Тогда если вершины u и v – смежны, то кратчайшее расстояние до вершины v равно d+1.](https://foxford.ru/wiki/informatika/algoritm-poiska-v-shirinu)\n",
        "\n",
        "**Время выполнения O(V+E),V-количество вершин E - количество ребер**\n"
      ]
    },
    {
      "cell_type": "code",
      "metadata": {
        "id": "86XMs4Fs4JbA"
      },
      "source": [
        "#Уберем веса из исходного графа.\n",
        "import numpy as np\n",
        "W22 = np.array([ [0,1,1,0], \n",
        "                [0,0,1,0], \n",
        "                [0,0,0,1], \n",
        "                [0,0,0,0] ])\n",
        "\n",
        "def matrix_to_list(matrix):\n",
        "    \"\"\"Функция для представления матрицы смежностей в виде списка смежностей\n",
        "       Список смежности—один из способов представления графа в виде коллекции списков вершин, \n",
        "                        каждой вершине графа соответствует список, состоящий из «соседей» этой вершины\n",
        "                        \n",
        "       Входные данные:\n",
        "       _ _ _ _ _ _ _ _\n",
        "       matrix(np.array) - матрица смежности графа(аdjacency matrix), 0 указывает на отсутствие ребер между вершинами графа,\n",
        "                          расстояние от вершины до самой себя - 0\n",
        "                          \n",
        "       Результат:\n",
        "       _ _ _ _ _ _ _ _\n",
        "       graph (dict) - список смежностей графа в виде словаря python\n",
        "       \n",
        "    \"\"\"\n",
        "                        \n",
        "    graph = {}\n",
        "    for i, node in enumerate(matrix): #цикл по строкам матрицы\n",
        "        adj = []\n",
        "        for j, connected in enumerate(node): #цикл по элементам строки матрицы\n",
        "            if connected: # если сосед у вершины существует, то добавим ее номер в список\n",
        "                adj.append(j)\n",
        "        graph[i] = adj\n",
        "    return graph\n",
        "\n",
        "def bfs(graph_to_search, start, end):\n",
        "    \"\"\"Поиск в ширину (англ. breadth-first search, BFS) для поиска кратчайшего расстояния.\n",
        "       Работает для невзвешенных ориентированных, неориентированных графов\n",
        "       \n",
        "       Входные данные:\n",
        "       _ _ _ _ _ _ _ _\n",
        "       graph_to_search(dict) - список смежностей графа в виде словаря python\n",
        "       start(int) - номер стартовой вершины, начиная с 0\n",
        "       end(int) - номер конечной вершины, до кот ищем кратчайшее расстояние\n",
        "                          \n",
        "       Результат:\n",
        "       _ _ _ _ _ _ _ _\n",
        "       int - кратчайшее расстояние, елси такого не существует, то возвращает np.inf\"\"\"\n",
        "    queue = [[start]]\n",
        "    visited = set()\n",
        "\n",
        "    while queue:\n",
        "        path = queue.pop(0)#берем первый элемент из очереди\n",
        "\n",
        "        vertex = path[-1]#тк наша конструкция-это список списков, то берем последний элемент из списка, \n",
        "                         #он будет вершиной-соседом\n",
        "#         print('1:',path,vertex)\n",
        "        if vertex == end:#если данный элемент равен искомому, возвращаем path\n",
        "            return len(path)-1 #рассчет расстояния, path - итоговый маршрут\n",
        "        elif vertex not in visited: #проверяем был ли элемент в посщеенных\n",
        "            #берем всех соседей текущей вершины и собираем новый путь и передаем в очередь\n",
        "            for current_neighbour in graph_to_search.get(vertex, []):\n",
        "                new_path = list(path)\n",
        "                new_path.append(current_neighbour)\n",
        "                queue.append(new_path)\n",
        "#                 print('2:',current_neighbour,new_path,queue)\n",
        "            visited.add(vertex) #отметка о посещении вершины\n",
        "    return np.inf\n",
        "\n",
        "def apply_bfs_for_all(graph_to_search):\n",
        "    \"\"\"\n",
        "     Функция для применения bfs ко всем элементам матрицы\n",
        "\n",
        "     Входные данные:\n",
        "     _ _ _ _ _ _ _ _\n",
        "     graph_to_search(dict) - список смежностей графа в виде словаря python\n",
        "\n",
        "     Результат:\n",
        "     _ _ _ _ _ _ _ _\n",
        "     a (numpy.ndarray) - матрица с кратчайшими расстояниями \n",
        "  \"\"\"\n",
        "  \n",
        "    #Создаем нулевую матрицу\n",
        "    a = np.zeros((len(graph_to_search), len(graph_to_search)))\n",
        "    #Применяем алгоритм ко всем элементам матрицы смежностей W2\n",
        "    for i in range(len(graph_to_search)):\n",
        "        for j in range(len(graph_to_search)):\n",
        "            a[i][j] = bfs(graph_to_search, i, j)\n",
        "    return a\n",
        "\n"
      ],
      "execution_count": null,
      "outputs": []
    },
    {
      "cell_type": "code",
      "metadata": {
        "id": "n83UswPu41e0",
        "colab": {
          "base_uri": "https://localhost:8080/"
        },
        "outputId": "55a07e79-55f6-4af3-9f6f-cfff558935b7"
      },
      "source": [
        "W22 = matrix_to_list(W22)\n",
        "apply_bfs_for_all(W22)"
      ],
      "execution_count": null,
      "outputs": [
        {
          "output_type": "execute_result",
          "data": {
            "text/plain": [
              "array([[ 0.,  1.,  1.,  2.],\n",
              "       [inf,  0.,  1.,  2.],\n",
              "       [inf, inf,  0.,  1.],\n",
              "       [inf, inf, inf,  0.]])"
            ]
          },
          "metadata": {
            "tags": []
          },
          "execution_count": 3
        }
      ]
    },
    {
      "cell_type": "code",
      "metadata": {
        "id": "KrWQiOY25Cb0",
        "colab": {
          "base_uri": "https://localhost:8080/"
        },
        "outputId": "a5991d1d-f623-4afd-b85d-1f0290e9997b"
      },
      "source": [
        "%timeit apply_bfs_for_all(W22)"
      ],
      "execution_count": null,
      "outputs": [
        {
          "output_type": "stream",
          "text": [
            "The slowest run took 44.61 times longer than the fastest. This could mean that an intermediate result is being cached.\n",
            "10000 loops, best of 3: 26.5 µs per loop\n"
          ],
          "name": "stdout"
        }
      ]
    },
    {
      "cell_type": "markdown",
      "metadata": {
        "id": "lrlP8GEb6bWc"
      },
      "source": [
        "**Вывод:** поиск в ширину для матрицы схожего размера, удовлятворяющей ограничениям, накладываемым алгоритмом работает еще быстрее, чем алгоритм Дейкстры или Флойда-Уоршала."
      ]
    },
    {
      "cell_type": "markdown",
      "metadata": {
        "id": "H8a2Bbig32Tn"
      },
      "source": [
        "# 3. [Алгоритм Беллмана-Форда](https://en.wikipedia.org/wiki/Bellman%E2%80%93Ford_algorithm)\n",
        "\n",
        "Находит путь с наименьшей стоимостью от исходного узла до всех остальных узлов в графе (*тогда как Floyd-Warshall вычисляет кратчайшие пути от каждого узла до каждого другого узла*).\n",
        "<p>Время выполнения при работе с матрицей смежности для расчета расстояния от одной до остальных вершин $ O (| V | *E)$  , где $ | V |,| E|$ -количество вершин и ребер соответственно.</p>\n",
        "\n",
        "<p>Время выполнения для всех вершин $ O (| V | ^{2}*E)$  , где $ | V |$ -количество вершин и ребер соответственно.</p>\n",
        "\n",
        " Работа этого алгоритма похожа на алгоритм Флойда-Уоршелла, только последний решает более общую задачу.\n",
        "Работает медленне Дейкстры. Однако в отличае от алгоритма Дейкстры может обрабатывать ребра с отрицательным весом.\n",
        "\n",
        "Также как и алгоритм Флойда-Уоршалла имеет ограничения на отрицательные циклы\n"
      ]
    },
    {
      "cell_type": "code",
      "metadata": {
        "id": "9uW-N-Xg30-h",
        "colab": {
          "base_uri": "https://localhost:8080/"
        },
        "outputId": "13e87adf-b5e2-492f-d5b3-94281be8e8e1"
      },
      "source": [
        "def bellmanFord(source, weights):\n",
        "    '''\n",
        "    Функция принимает граф в виде матрицы и рассчитывает массивас информацией о кратчайшем пути\n",
        "    https://en.wikipedia.org/wiki/Bellman%E2%80%93Ford_algorithm\n",
        "    '''\n",
        "    import numpy as np\n",
        "    n = weights.shape[0]\n",
        "    distance = np.empty(n)\n",
        "    distance.fill(np.inf)      #В начале все вершины имеют вес бесконечности\n",
        "\n",
        "    distance[source] = 0             # За исключением вершины-источника, где вес равен нулю\n",
        "\n",
        "    # Релаксируем ребра \n",
        "    for _ in range(1, n):\n",
        "        for (u, v), w in np.ndenumerate(weights):#номер строки матрицы, v номер столбца, w-сам элемент\n",
        "            if distance[u] + w < distance[v]:#если предыдущее минимальное расстояние+новое ребро меньше, чем раст до этой вершины,\n",
        "                distance[v] = distance[u] + w # обновляем\n",
        "\n",
        "    # Поиск отрицательных циклов\n",
        "    # for (u, v), w in np.ndenumerate(weights):\n",
        "    #     if distance[u] + w < distance[v]:\n",
        "    #         raise ValueError(\"Граф содержит отрицательный цикл\")\n",
        "\n",
        "    return distance\n",
        "\n",
        "\n",
        "def apply_bellman_ford(matrix):\n",
        "    l = []\n",
        "    for i in range(4):\n",
        "        l.append(list(bellmanFord(i, matrix)))\n",
        "    a = np.vstack(l)\n",
        "    return a\n",
        "apply_bellman_ford(W)"
      ],
      "execution_count": null,
      "outputs": [
        {
          "output_type": "execute_result",
          "data": {
            "text/plain": [
              "array([[ 0.,  4., 21.,  1.],\n",
              "       [ 4.,  0., 23.,  3.],\n",
              "       [21., 23.,  0., 20.],\n",
              "       [ 1.,  3., 20.,  0.]])"
            ]
          },
          "metadata": {
            "tags": []
          },
          "execution_count": 25
        }
      ]
    },
    {
      "cell_type": "code",
      "metadata": {
        "id": "xL8AYWvB4M_e",
        "colab": {
          "base_uri": "https://localhost:8080/"
        },
        "outputId": "6d1aa7f6-1c35-48d3-d441-03342508c3ed"
      },
      "source": [
        "%timeit apply_bellman_ford(W)"
      ],
      "execution_count": null,
      "outputs": [
        {
          "output_type": "stream",
          "text": [
            "The slowest run took 5.65 times longer than the fastest. This could mean that an intermediate result is being cached.\n",
            "1000 loops, best of 3: 213 µs per loop\n"
          ],
          "name": "stdout"
        }
      ]
    },
    {
      "cell_type": "code",
      "metadata": {
        "id": "5htlMlxiBRNw",
        "colab": {
          "base_uri": "https://localhost:8080/"
        },
        "outputId": "25c1b3f4-033e-4555-8873-a6542aeb4112"
      },
      "source": [
        "#Попытка ускорить работу функции bellmanFord\n",
        "def bellman_ford_faster(adjacency_matrix, s):\n",
        "    '''\n",
        "    Функция принимает граф в виде матрицы и рассчитывает массив с информацией о кратчайшем пути\n",
        "    https://en.wikipedia.org/wiki/Bellman%E2%80%93Ford_algorithm\n",
        "\n",
        "    Входные данные:\n",
        "    _ _ _ _ _ _ _ _\n",
        "    adjacency_matrix (numpy.ndarray)   - матрица смежности графа(аdjacency matrix), np.inf указывает на отсутствие ребер между вершинами графа,\n",
        "                                         расстояние от вершины до самой себя - 0\n",
        "    s (int)                            - номер вершины для анализа\n",
        "    \n",
        "    Результат:\n",
        "    _ _ _ _ _ _ _ _\n",
        "    cache (list)          -расстояния от заданной точки до остальных вершин графа, включая исходную,\n",
        "                          индекс списка соответсвует индексу вершины\n",
        "    '''\n",
        "    vertices = adjacency_matrix.shape[0]\n",
        "    cache = np.empty(vertices)\n",
        "    cache[:] = float(\"inf\")\n",
        "    cache[s] = 0\n",
        "    # print('0',cache)\n",
        "    for i in range(1, vertices):\n",
        "        previous_cache = cache[:] \n",
        "        # print('1',previous_cache.T,adjacency_matrix,previous_cache.T + adjacency_matrix)   \n",
        "        combined = np.min(previous_cache.T + adjacency_matrix,axis=1)#добавляем узлы к начальному и пресчитываем расстояния до точек\n",
        "        cache = np.minimum(previous_cache, combined)\n",
        "        # print('2',combined,previous_cache,cache)\n",
        "    \n",
        "    #Проверка на отрицательные циклы\n",
        "    # previous_cache = cache[:]\n",
        "    # combined = np.min(previous_cache.T + adjacency_matrix,axis=1)\n",
        "    # cache = np.minimum(previous_cache, combined)\n",
        "    \n",
        "    # if(not np.alltrue(cache == previous_cache)):\n",
        "    #     raise Exception(\"negative cycle detected\")\n",
        "    return cache\n",
        "    \n",
        "    \n",
        "\n",
        "def apply_bellman_ford2(matrix):\n",
        "    \"\"\"\n",
        "     Функция для применения алгоритма Бельмана-Форда ко всем строкам матрицы\n",
        "\n",
        "     Входные данные:\n",
        "     _ _ _ _ _ _ _ _\n",
        "     matrix(numpy.ndarray) - матрица смежностей графа\n",
        "\n",
        "     Результат:\n",
        "     _ _ _ _ _ _ _ _\n",
        "     a (numpy.ndarray) - матрица с кратчайшими расстояниями \n",
        "    \"\"\"  \n",
        "    l = []\n",
        "    for i in range(4):\n",
        "        l.append(list(bellman_ford_faster(matrix,i)))\n",
        "    a = np.vstack(l)\n",
        "    return a\n",
        "\n",
        "apply_bellman_ford2(W)"
      ],
      "execution_count": null,
      "outputs": [
        {
          "output_type": "execute_result",
          "data": {
            "text/plain": [
              "array([[ 0.,  4., 21.,  1.],\n",
              "       [ 4.,  0., 23.,  3.],\n",
              "       [21., 23.,  0., 20.],\n",
              "       [ 1.,  3., 20.,  0.]])"
            ]
          },
          "metadata": {
            "tags": []
          },
          "execution_count": 38
        }
      ]
    },
    {
      "cell_type": "code",
      "metadata": {
        "id": "yq30I9TJWmLk",
        "colab": {
          "base_uri": "https://localhost:8080/"
        },
        "outputId": "915c3292-791b-4ffd-bd3e-247d4ca89422"
      },
      "source": [
        "%timeit apply_bellman_ford2(W)"
      ],
      "execution_count": null,
      "outputs": [
        {
          "output_type": "stream",
          "text": [
            "10000 loops, best of 3: 138 µs per loop\n"
          ],
          "name": "stdout"
        }
      ]
    },
    {
      "cell_type": "markdown",
      "metadata": {
        "id": "-ZH_Ru9G4to4"
      },
      "source": [
        "**Вывод:** алгоритм Бельмана-Форда показал худший результат из всех возможных, что логично, тк время его выполенния зависит также и от количества ребер в графе. В нашем примере вершин -4, а ребер - 5. Поэтому время его выполнения выше, чем время выполнения Дейкстры или Флойда-Уоршалла"
      ]
    },
    {
      "cell_type": "markdown",
      "metadata": {
        "id": "PbOwkBIXrdSX"
      },
      "source": [
        "<h1><center>Сравнение алгоритмов поиска кратчайшего расстояния!</center><h1>\n",
        "\n",
        "![image.png](data:image/png;base64,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)\n",
        "**\\***  - для алгоритма Флойда-Уоршалла сложность указана для расчета расстояний всех вершин графа. Для остальных алгоритмов для одной вершины (для сравнением их сложности со сложностью Флойда-Уоршалла, необходимо первую домножить на V  количество вершин в графе )\n",
        "\n",
        "**\\**** - V-кол-во вершин, E-кол-во ребер"
      ]
    }
  ]
}