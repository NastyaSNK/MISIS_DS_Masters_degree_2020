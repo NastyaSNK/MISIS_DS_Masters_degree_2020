{
 "cells": [
  {
   "cell_type": "code",
   "execution_count": 44,
   "metadata": {},
   "outputs": [
    {
     "name": "stdout",
     "output_type": "stream",
     "text": [
      "1100011\n"
     ]
    }
   ],
   "source": [
    "# Число в двоичное\n",
    "k = ''\n",
    "n=99\n",
    "while n//2!=0:\n",
    "    k+= str(n%2)\n",
    "    n = n//2\n",
    "else:\n",
    "    k = k+'1'\n",
    "    print(k[::-1])"
   ]
  },
  {
   "cell_type": "code",
   "execution_count": 28,
   "metadata": {},
   "outputs": [
    {
     "name": "stdout",
     "output_type": "stream",
     "text": [
      "13\n"
     ]
    }
   ],
   "source": [
    "# НОД, алгоритм Евклида\n",
    "a = 312\n",
    "b = 455\n",
    "\n",
    "\n",
    "if a<b:\n",
    "    m = b\n",
    "    b = a\n",
    "    a = m\n",
    "while a%b!=0:\n",
    "    k = a%b\n",
    "    a = b\n",
    "    b = k\n",
    "else:\n",
    "     print(b)"
   ]
  },
  {
   "cell_type": "code",
   "execution_count": 25,
   "metadata": {},
   "outputs": [
    {
     "name": "stdout",
     "output_type": "stream",
     "text": [
      "b>a\n",
      "a= 264\n",
      "b= 381\n",
      "b<=a\n",
      "a= 264\n",
      "b= 117\n",
      "b>a\n",
      "a= 30\n",
      "b= 117\n",
      "b<=a\n",
      "a= 30\n",
      "b= 27\n",
      "b>a\n",
      "a= 3\n",
      "b= 27\n",
      "b<=a\n",
      "a= 3\n",
      "b= 0\n",
      "3\n"
     ]
    }
   ],
   "source": [
    "# НОД, алгоритм Евклида2\n",
    "a = 645\n",
    "b = 381\n",
    "\n",
    "while a != 0 and b != 0:\n",
    "    if a > b:\n",
    "        print('b>a')\n",
    "        a %= b\n",
    "        print('a=',a)\n",
    "        print('b=',b)\n",
    "    else:\n",
    "        b %= a\n",
    "        print('b<=a')\n",
    "        print('a=',a)\n",
    "        print('b=',b)\n",
    "gcd = a + b\n",
    "print(gcd)"
   ]
  },
  {
   "cell_type": "code",
   "execution_count": 42,
   "metadata": {},
   "outputs": [
    {
     "name": "stdout",
     "output_type": "stream",
     "text": [
      "Деньги удвоятся через 1 лет.\n"
     ]
    }
   ],
   "source": [
    "money = 1000\n",
    "year = 0\n",
    "yearly_multiplier = 2\n",
    "for i in range(1,11):\n",
    "    money = money*yearly_multiplier\n",
    "    if 2000==money:\n",
    "        print('Деньги удвоятся через', i, 'лет.')\n",
    "        break\n",
    "    elif i == 10:\n",
    "        print('Мы заберем', money, 'у.е. через 10 лет.')"
   ]
  },
  {
   "cell_type": "code",
   "execution_count": 55,
   "metadata": {},
   "outputs": [
    {
     "name": "stdout",
     "output_type": "stream",
     "text": [
      "76\n"
     ]
    }
   ],
   "source": [
    "n = 13\n",
    "k=0\n",
    "for i in range (1,n+1):\n",
    "    if i%5==0:\n",
    "        continue\n",
    "    k+=i\n",
    "print(k)"
   ]
  },
  {
   "cell_type": "code",
   "execution_count": 63,
   "metadata": {},
   "outputs": [
    {
     "name": "stdout",
     "output_type": "stream",
     "text": [
      "257\n"
     ]
    }
   ],
   "source": [
    "def is_prime(n):\n",
    "    k = 0\n",
    "    for i in range(2,n+1):\n",
    "        if n%i==0:\n",
    "            k+=1\n",
    "            c = i\n",
    "    if k==1 and c==n:\n",
    "        return print(n)\n",
    "        \n",
    "is_prime(257)"
   ]
  },
  {
   "cell_type": "code",
   "execution_count": 74,
   "metadata": {},
   "outputs": [
    {
     "name": "stdout",
     "output_type": "stream",
     "text": [
      "2\n",
      "3\n",
      "5\n",
      "7\n",
      "11\n",
      "13\n",
      "17\n",
      "19\n",
      "23\n",
      "29\n",
      "31\n",
      "37\n",
      "41\n",
      "43\n",
      "47\n",
      "53\n",
      "59\n",
      "61\n",
      "67\n",
      "71\n",
      "73\n",
      "79\n",
      "83\n",
      "89\n",
      "97\n",
      "101\n",
      "103\n",
      "107\n",
      "109\n",
      "113\n",
      "127\n",
      "131\n",
      "137\n",
      "139\n",
      "149\n",
      "151\n",
      "157\n",
      "163\n",
      "167\n",
      "173\n",
      "179\n",
      "181\n",
      "191\n",
      "193\n",
      "197\n",
      "199\n",
      "211\n",
      "223\n",
      "227\n",
      "229\n",
      "233\n",
      "239\n",
      "241\n",
      "251\n",
      "257\n"
     ]
    }
   ],
   "source": [
    "def is_prime(nn):\n",
    "    k = 0\n",
    "    for ii in range(2,nn+1):\n",
    "        if nn%ii==0:\n",
    "            k+=1\n",
    "            c = i\n",
    "    if k==1 and c==nn:\n",
    "        return True\n",
    "    else:\n",
    "        return False\n",
    "        \n",
    "n=257        \n",
    "for i in range (2,n+1):\n",
    "    if is_prime(i):\n",
    "        print(i)"
   ]
  },
  {
   "cell_type": "code",
   "execution_count": 80,
   "metadata": {},
   "outputs": [],
   "source": [
    "# Все простые числа от 2 до n\n",
    "def is_prime(nn):\n",
    "    k = 0\n",
    "    for ii in range(2,nn+1):\n",
    "        if nn%ii==0:\n",
    "            k+=1\n",
    "            c = ii\n",
    "    if k==1 and c==nn:\n",
    "        return True\n",
    "    else:\n",
    "        return False\n",
    "        \n",
    "        \n",
    "for i in range (1,n+1):\n",
    "    if is_prime(i):\n",
    "        print(i)\n",
    "#print ([i for i in range (1,n+1) if is_prime(i)])        "
   ]
  },
  {
   "cell_type": "markdown",
   "metadata": {},
   "source": [
    "# Проект"
   ]
  },
  {
   "cell_type": "code",
   "execution_count": 88,
   "metadata": {},
   "outputs": [],
   "source": [
    "import random"
   ]
  },
  {
   "cell_type": "code",
   "execution_count": 174,
   "metadata": {},
   "outputs": [
    {
     "data": {
      "text/plain": [
       "0.06569573337172607"
      ]
     },
     "execution_count": 174,
     "metadata": {},
     "output_type": "execute_result"
    }
   ],
   "source": [
    "# Генератор случайного числа от 0 до 1\n",
    "random.random()"
   ]
  },
  {
   "cell_type": "code",
   "execution_count": 177,
   "metadata": {},
   "outputs": [
    {
     "data": {
      "text/plain": [
       "[<matplotlib.lines.Line2D at 0x1fe5fc0fc40>]"
      ]
     },
     "execution_count": 177,
     "metadata": {},
     "output_type": "execute_result"
    },
    {
     "data": {
      "image/png": "[encoded data removed]",
      "text/plain": [
       "<Figure size 432x288 with 1 Axes>"
      ]
     },
     "metadata": {
      "needs_background": "light"
     },
     "output_type": "display_data"
    }
   ],
   "source": [
    "# Посмотрим, что получается, если сгенерить 100 чисел при помощи функции random.random()\n",
    "import matplotlib.pyplot as plt \n",
    "%matplotlib inline\n",
    "a = []\n",
    "for i in range(100):\n",
    "    a.append(random.random())\n",
    "plt.plot(a)"
   ]
  },
  {
   "cell_type": "code",
   "execution_count": 197,
   "metadata": {},
   "outputs": [],
   "source": [
    "def avg_of_random_numbers(n):\n",
    "    \"\"\" Генерация n случайных чисел и рассчет среднего\n",
    "        __________\n",
    "        Параметры:\n",
    "        __________\n",
    "        n: — количество равномерно-распределённых случайных чисел, которые необходимо усреднить.\"\"\"\n",
    "    summ = 0\n",
    "    quantity  = 0\n",
    "    for i in range(n):\n",
    "        summ+=random.random()\n",
    "        quantity+=1\n",
    "    return summ/quantity\n",
    "\n",
    "\n",
    "\n",
    "def get_normal_random(n):\n",
    "    \"\"\"n: — количество равномерно-распределённых случайных чисел, которые необходимо усреднить.\"\"\"\n",
    "    summ = 0\n",
    "    quantity  = 0\n",
    "    for i in range(n):\n",
    "        summ+=random.random()\n",
    "        quantity+=1\n",
    "    return (summ/quantity  - 0.5)/ (1/(12 * n) ** 0.5)\n",
    "\n",
    "def calc_mean(m,n):\n",
    "    \"\"\"\n",
    "    Рассчет среднего\n",
    "    \n",
    "    __________\n",
    "    Параметры:\n",
    "    __________   \n",
    "    n — количество повторений для усреднения (этот аргумент должен передаваться в get_normal_random).\n",
    "    m — сколько раз вызывать предыдущую функцию, чтобы оценить математическое ожидание и дисперсию.\"\"\"\n",
    "    \n",
    "    summ = 0\n",
    "    quantity  = 0\n",
    "    for i in range(m):\n",
    "        summ+=get_normal_random(n)\n",
    "    return summ/m\n",
    "\n",
    "def calc_var(m,n):\n",
    "    \"\"\"Рассчет дисперсии\"\"\"\n",
    "    summ1 = 0\n",
    "    for i in range(m):\n",
    "        summ1+=get_normal_random(n)**2\n",
    "    return (summ1/m)-calc_mean(m,n)**2\n",
    "\n",
    "\n",
    "def estimate_outliers(n,m):\n",
    "    \"\"\"Функция для кол-ва случаев за пределами 3х сигм для стандартного нормального распределения\n",
    "       __________\n",
    "       Параметры:\n",
    "       __________   \n",
    "       n — количество повторений для усреднения (этот аргумент должен передаваться в get_normal_random).\n",
    "       m — сколько раз вызывать предыдущую функцию, чтобы оценить математическое ожидание и дисперсию.\"\"\"\n",
    "    summ1 = 0\n",
    "    a = []\n",
    "    counter = 0\n",
    "    for i in range(m):\n",
    "        x = get_normal_random(n)\n",
    "        if x>3 or x<-3:\n",
    "            counter+= 1\n",
    "    return counter\n",
    "\n",
    "def get_normal_random_md(avg_reps, m, d):\n",
    "    \"\"\"\n",
    "       Функция для получения нормальной случайной величины с заданным матожиданием и дисперсией\n",
    "       __________\n",
    "       Параметры:\n",
    "       __________\n",
    "       avg_reps: сколько раз усреднять равномерно-распределённую случайную величину;\n",
    "       m:       желаемое матожидание;\n",
    "       d:       желаемая дисперсия.\"\"\"\n",
    "    summ = 0\n",
    "    quantity  = 0\n",
    "    for i in range(avg_reps):\n",
    "        summ+=random.random()\n",
    "        quantity+=1\n",
    "    return (summ/quantity  - 0.5)/ (1/(12 * avg_reps) ** 0.5)*(d**0.5)+m"
   ]
  },
  {
   "cell_type": "code",
   "execution_count": 183,
   "metadata": {},
   "outputs": [
    {
     "data": {
      "image/png": "[encoded data removed]",
      "text/plain": [
       "<Figure size 432x288 with 1 Axes>"
      ]
     },
     "metadata": {
      "needs_background": "light"
     },
     "output_type": "display_data"
    }
   ],
   "source": [
    "# Посмотрим, что получается, если сгенерить 10000 чисел при помощи функции get_normal_random(n)\n",
    "b = []\n",
    "for i in range(10000):\n",
    "    b.append(get_normal_random(100))\n",
    "plt.hist(b)\n",
    "plt.title('Гистограмма распределения')\n",
    "plt.show()"
   ]
  },
  {
   "cell_type": "code",
   "execution_count": 188,
   "metadata": {},
   "outputs": [
    {
     "name": "stdout",
     "output_type": "stream",
     "text": [
      "Проверка матожидания для полученной величины: 0.1449430361662576\n"
     ]
    }
   ],
   "source": [
    "print('Проверка матожидания для полученной величины:',calc_mean(100,1000))"
   ]
  },
  {
   "cell_type": "code",
   "execution_count": 189,
   "metadata": {},
   "outputs": [
    {
     "name": "stdout",
     "output_type": "stream",
     "text": [
      "Проверка дисперсии для полученной величины: 0.8031985495375861\n"
     ]
    }
   ],
   "source": [
    "print('Проверка дисперсии для полученной величины:',calc_var(100,1000))"
   ]
  },
  {
   "cell_type": "code",
   "execution_count": 203,
   "metadata": {},
   "outputs": [
    {
     "name": "stdout",
     "output_type": "stream",
     "text": [
      "Значений за пределами 3 сигм:0.3%\n"
     ]
    }
   ],
   "source": [
    "print('процент значений за пределами 3 сигм:{}%'.format(estimate_outliers(100,1000)/1000*100))"
   ]
  },
  {
   "cell_type": "code",
   "execution_count": 205,
   "metadata": {},
   "outputs": [
    {
     "data": {
      "image/png": "[encoded data removed]",
      "text/plain": [
       "<Figure size 432x288 with 1 Axes>"
      ]
     },
     "metadata": {
      "needs_background": "light"
     },
     "output_type": "display_data"
    }
   ],
   "source": [
    "# Посмотрим, что получается, если сгенерить 10000 чисел при помощи функции get_normal_random_md(n)\n",
    "v = []\n",
    "for i in range(10000):\n",
    "    v.append(get_normal_random_md(100, 2, 1))\n",
    "plt.hist(v)\n",
    "plt.title('Гистограмма распределения')\n",
    "plt.show()"
   ]
  },
  {
   "cell_type": "markdown",
   "metadata": {},
   "source": [
    "Действительно у полученного распределения матожидание равно 2"
   ]
  }
 ],
 "metadata": {
  "kernelspec": {
   "display_name": "Python 3",
   "language": "python",
   "name": "python3"
  },
  "language_info": {
   "codemirror_mode": {
    "name": "ipython",
    "version": 3
   },
   "file_extension": ".py",
   "mimetype": "text/x-python",
   "name": "python",
   "nbconvert_exporter": "python",
   "pygments_lexer": "ipython3",
   "version": "3.8.3"
  }
 },
 "nbformat": 4,
 "nbformat_minor": 4
}
