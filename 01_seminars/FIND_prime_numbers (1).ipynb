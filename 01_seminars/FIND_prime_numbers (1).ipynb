{
  "nbformat": 4,
  "nbformat_minor": 0,
  "metadata": {
    "colab": {
      "name": "FIND_prime_numbers.ipynb",
      "provenance": [],
      "collapsed_sections": [],
      "toc_visible": true
    },
    "kernelspec": {
      "name": "python3",
      "display_name": "Python 3"
    }
  },
  "cells": [
    {
      "cell_type": "markdown",
      "metadata": {
        "id": "5temEvH3KzKp"
      },
      "source": [
        "Группа 19g\n",
        "\n",
        "Куратор- Виктория Картинина\n",
        "\n",
        "Состав участников:\n",
        "* Анастасия Сухоносенко\n",
        "* Оксана Евсеева\n",
        "* Ольга Стригина\n",
        "* Евгений Влащенков\n",
        "* Евгений Иванов\n",
        "\n",
        "Team-lead - Евгений Иванов\n",
        "\n",
        "\n"
      ]
    },
    {
      "cell_type": "markdown",
      "metadata": {
        "id": "3Ec2jXTtA82j"
      },
      "source": [
        "## ЗАДАЧА\n",
        "О любви к числам и подстрокам\n",
        "Датасайентистке Бобролюбовой нравится число 1024. Она любит искать это число внутри других чисел. В этот раз она решила поискать его внутри простых чисел длины d.\n",
        "Например, среди простых чисел длины 5 есть всего 2 числа, содержащих 1024 в качестве подстроки: 10243 и 10247. Для длины 6 таких чисел 19 (например, 102461).\n",
        "Помогите г-же Бобролюбовой найти количество и сумму простых чисел длины d, содержащих s в качестве подстроки. Выведите количество и сумму через пробел.\n",
        "Ограничения: 2 <= d <= 7.\n",
        "<p>Пример 1.</p>\n",
        "d = 5, s = “1024”\n",
        "Ответ: 2 20490\n",
        "<p>Пример 2.</p>\n",
        "d = 6, s = “023”\n",
        "Ответ: 328 173217732"
      ]
    },
    {
      "cell_type": "markdown",
      "metadata": {
        "id": "zMRBhFR1NhRx"
      },
      "source": [
        "# Решение"
      ]
    },
    {
      "cell_type": "code",
      "metadata": {
        "id": "Go61Lp5FlEB8"
      },
      "source": [
        "import time\n",
        "import sympy\n",
        "import math\n",
        "import random"
      ],
      "execution_count": null,
      "outputs": []
    },
    {
      "cell_type": "markdown",
      "metadata": {
        "id": "-xyge7j12Nkq"
      },
      "source": [
        "## Ввод исходных данных\n"
      ]
    },
    {
      "cell_type": "code",
      "metadata": {
        "id": "x_cbfgt0PMi8",
        "outputId": "9999d8c5-4170-4771-f69c-84319fcce4bf",
        "colab": {
          "base_uri": "https://localhost:8080/",
          "height": 69
        }
      },
      "source": [
        "def input_check_data():\n",
        "    \"\"\"\n",
        "       Функция для ввода и проверки корректности,введенных данных\n",
        "       \n",
        "       Результат:\n",
        "       _ _ _ _ _ _\n",
        "       s (str) - подстрока для поиска среди простых чисел\n",
        "       d (int) - max кол-во цифр в простых числах для поиска\n",
        "    \"\"\"   \n",
        "    while True:\n",
        "        s = input(\"Введите подстроку:\")\n",
        "        d = input('Введите длину простого числа:')\n",
        "    # Функция isnumeric() проверяет, состоит ли строка только из цифровых символов\n",
        "        if s ==\"\" or d == \"\":\n",
        "            return print('Вы нажали Enter')\n",
        "        if not s.isnumeric() or not d.isnumeric():\n",
        "            return print(\"Вы ввели не число.\")\n",
        "        if int(d)<len(s):\n",
        "            return print(\"Длина простого числа меньше длины подстроки\")\n",
        "        if int(d)<2 or int(d)>7:\n",
        "            return print('Введите 2 <= d <= 7')\n",
        "        break\n",
        "    return s, int(d)\n",
        "s, d = input_check_data()\n",
        "print('Ищем строку {} в простых числах длиной {}'.format(s,d))"
      ],
      "execution_count": null,
      "outputs": [
        {
          "output_type": "stream",
          "text": [
            "Введите подстроку:1024\n",
            "Введите длину простого числа:7\n",
            "Ищем строку 1024 в простых числах длиной 7\n"
          ],
          "name": "stdout"
        }
      ]
    },
    {
      "cell_type": "markdown",
      "metadata": {
        "id": "xvl3L52wKGCG"
      },
      "source": [
        "## 1). Простой перебор всех чисел до $10^d-1$ и проверка их на простоту через перебор делителей\n",
        "\n",
        "---\n",
        "\n",
        "\n",
        "1. Формируем список из 2-ки и всех нечетных чисел до $10^{d}-1$\n",
        "2. Проверяем каждое число (n) на простоту при помощи перебора всех делителей до $\\sqrt[]{n}$. Если число простое, добавляем в список простых чисел\n",
        "3. Среди простых чисел находим все числа, в которые входит строка s"
      ]
    },
    {
      "cell_type": "code",
      "metadata": {
        "id": "ZDZFJZEbkdTq",
        "outputId": "dfd4262b-bb41-4b65-e5f5-6e5622c7f5a1",
        "colab": {
          "base_uri": "https://localhost:8080/",
          "height": 52
        }
      },
      "source": [
        "def is_prime(n):\n",
        "    \"\"\"Проверка на простоту перебором делителей\"\"\"\n",
        "    if n < 2:\n",
        "        return False\n",
        "    if n == 2:\n",
        "        return True\n",
        "    limit = math.sqrt(n)\n",
        "    i = 2\n",
        "    while i <= limit:\n",
        "        if n % i == 0:\n",
        "            return False\n",
        "        i += 1\n",
        "    return True\n",
        "\n",
        "def prime_list(d):\n",
        "    \"\"\"Формируем список простых чисел до 10**d\"\"\"\n",
        "    a = [2]        \n",
        "    for i in range (1,10**d-1,2):\n",
        "        if is_prime(i):\n",
        "            a.append(i)\n",
        "    return a\n",
        "\n",
        "def executor(l, s):\n",
        "    \"\"\"Поиск подстроки s в списке простых чисел\"\"\"\n",
        "    summ=0\n",
        "    count = 0\n",
        "    for j in l:\n",
        "        if s in str(j):\n",
        "            summ+=j\n",
        "            count+=1\n",
        "    return count, summ\n",
        "\n",
        "start_time=time.time()\n",
        "if d<6:\n",
        "  count_primes, sum_primes = executor(prime_list(d), s)\n",
        "  print(count_primes, sum_primes)\n",
        "  duration_perebor=str(time.time()-start_time)\n",
        "else:\n",
        "  print('Оно того не стоит')\n",
        "  duration_perebor='Не определено'\n",
        "\n",
        "print('Время работы алгоритма:' + duration_perebor +' сек.')"
      ],
      "execution_count": null,
      "outputs": [
        {
          "output_type": "stream",
          "text": [
            "328 173217732\n",
            "Время работы алгоритма:7.47587251663208 сек.\n"
          ],
          "name": "stdout"
        }
      ]
    },
    {
      "cell_type": "markdown",
      "metadata": {
        "id": "n5k3EPxa3ZTr"
      },
      "source": [
        "## 2). Перебор делителей для списка числел длиной до d с подстрокой s\n",
        "\n",
        "---\n",
        "\n",
        "\n",
        "1. Формируем все числа длины d, содеращие s подстрокой\n",
        "2. Проверяем каждое число на простоту при помощи перебора всех делителей до $\\sqrt[]{n}$. Если число простое, добавляем в список простых чисел "
      ]
    },
    {
      "cell_type": "code",
      "metadata": {
        "id": "Kkelsx3dQg8K",
        "outputId": "31606a9c-0e67-4625-e4b2-7196e1f70cfc",
        "colab": {
          "base_uri": "https://localhost:8080/",
          "height": 52
        }
      },
      "source": [
        "#составляет строку со всеми возможными добавлениями цифры справа и слева от входной строки s\n",
        "def get_new_str(s):\n",
        "    numerals=['0','1','2','3','4','5','6','7','8','9','0']\n",
        "    res_left=[i+s for i in numerals]\n",
        "    res_right=[s+i for i in numerals]\n",
        "    return res_left+res_right\n",
        "\n",
        "#Функция получения всех чисел длины d с подстрокой \n",
        "def get_number_consider_s(s,d):\n",
        "  #Сколько добавлять символов:\n",
        "  s=str(s)\n",
        "  delta=d-len(s)\n",
        "  #Сюда будем записывать все значения\n",
        "  all_str_with_nums=[s]\n",
        "  while delta>0:\n",
        "      prom_res=[]\n",
        "      for s_i in all_str_with_nums:\n",
        "          prom_res+=get_new_str(s_i)\n",
        "      all_str_with_nums+=prom_res\n",
        "      delta=delta-1\n",
        "  #Убираем все повторы и строки, начинающиеся с '0'\n",
        "  all_str_with_nums=list(set([int(x) for x in all_str_with_nums if x[0]!='0' and int(x) % 2 !=0]))\n",
        "  return all_str_with_nums\n",
        "\n",
        "\n",
        "start_time=time.time()\n",
        "find_numbers = []\n",
        "res_sum = 0\n",
        "kol_include = 0\n",
        "all_str_with_nums=get_number_consider_s(s,d)\n",
        "for num in all_str_with_nums:\n",
        "    if is_prime(num):\n",
        "        find_numbers.append(num)\n",
        "        res_sum+=num\n",
        "        kol_include+=1\n",
        "duration_str_simple_test=str(time.time()-start_time)\n",
        "print(kol_include, res_sum)\n",
        "print('Время работы алгоритма:' + duration_str_simple_test + ' сек.')\n"
      ],
      "execution_count": null,
      "outputs": [
        {
          "output_type": "stream",
          "text": [
            "205 658877721\n",
            "Время работы алгоритма:0.04969143867492676 сек.\n"
          ],
          "name": "stdout"
        }
      ]
    },
    {
      "cell_type": "markdown",
      "metadata": {
        "id": "5vVHFnfcgvcP"
      },
      "source": [
        "## 3). Решето Эратосфена\n",
        "\n",
        "---\n",
        "\n",
        "Пусть нужно отыскать простые числа в промежутке от единицы до некоторого n. \n",
        "1. Заводим массив на n элементов и заполняем его true. \n",
        "2. Пусть переменная p изначально равна двум — первому простому числу.\n",
        "3. Зачеркнуть в списке числа от 2p до n считая шагами по p (это будут числа кратные p: 2p, 3p, 4p, …). (На шаге № 3 числа можно зачеркивать начиная сразу с числа $p^2$, потому что все составные числа меньше него уже будут зачеркнуты к этому времени.И, соответственно, останавливать алгоритм можно, когда $p^2$ станет больше, чем n.Также, все простые числа (кроме 2) — нечётные числа, и поэтому для них можно считать шагами по 2p, начиная с p2.)\n",
        "4. Найти первое незачёркнутое число в списке, большее чем p, и присвоить значению переменной p это число.\n",
        "5. Повторять шаги 3 и 4, пока возможно.\n"
      ]
    },
    {
      "cell_type": "code",
      "metadata": {
        "id": "Ui-nTrW6njDc",
        "outputId": "72c5e621-d6fe-4ea6-ec68-ff7822dd2658",
        "colab": {
          "base_uri": "https://localhost:8080/",
          "height": 52
        }
      },
      "source": [
        "#Функция составления списка простых чисел до n\n",
        "def sieve_of_eratosthenes(n):  \n",
        "    final = []\n",
        "    #Создаем пустой список длиной n, заполненный значениями True\n",
        "    prime = [True for i in range(n + 1)] \n",
        "    p = 2\n",
        "    while (p * p <= n):         \n",
        "        # Если значение элемента в списке не изменялось, то оно простое\n",
        "        if (prime[p] == True):              \n",
        "            if p ==2:\n",
        "                for i in range(p ** 2, n + 1, p): #фактически зачеркиваем числа начиная с n**2 с шагом p для двойки\n",
        "                    prime[i] = False\n",
        "            else:\n",
        "                for i in range(p ** 2, n + 1, 2*p): #фактически зачеркиваем числа начиная с n**2 с шагом 2p\n",
        "                    prime[i] = False\n",
        "        p += 1\n",
        "    prime[0]= False\n",
        "    prime[1]= False\n",
        "    # Итоговый список простых чисел \n",
        "    for p in range(n + 1): \n",
        "        if prime[p]: \n",
        "            final.append(p)\n",
        "    return final\n",
        "\n",
        "#Функция проверки вхождения подстроки s в элементы списка простых чисел b\n",
        "def executor(b,d,s):\n",
        "    summ=0\n",
        "    count = 0\n",
        "    for j in b:\n",
        "        if s in str(j):\n",
        "            summ+=j\n",
        "            count+=1\n",
        "    return count, summ\n",
        "\n",
        "start_time=time.time()\n",
        "list_of_primes = sieve_of_eratosthenes(10**d)\n",
        "count_primes, sum_primes = executor(list_of_primes,d,s)\n",
        "duration_eratosphen=str(time.time()-start_time)\n",
        "print(count_primes, sum_primes)\n",
        "print('Время работы алгоритма:' + duration_eratosphen + ' сек.')\n"
      ],
      "execution_count": null,
      "outputs": [
        {
          "output_type": "stream",
          "text": [
            "205 658877721\n",
            "Время работы алгоритма:2.246457815170288 сек.\n"
          ],
          "name": "stdout"
        }
      ]
    },
    {
      "cell_type": "markdown",
      "metadata": {
        "id": "5D-GjKJaKTUS"
      },
      "source": [
        "## 4). Тест Ферма\n",
        "\n",
        "---\n",
        "\n",
        "\n",
        "<p>Малая теорема Ферма:</p>\n",
        "\n",
        "<c>*Если p – простое число, a – целое число, не делящееся на p, то:*</c>\n",
        "                $$a^{(p-1)} \\equiv 1 (mod p)$$\n",
        "\n"
      ]
    },
    {
      "cell_type": "markdown",
      "metadata": {
        "id": "MtiSI5lrdPn4"
      },
      "source": [
        "Функции для проведения теста Ферма на определение простоты числа"
      ]
    },
    {
      "cell_type": "code",
      "metadata": {
        "id": "vd2SlD8j61yu"
      },
      "source": [
        "#медленный тест Ферма \n",
        "def is_prime_ferma_slow(num, test_count):\n",
        "    for i in range(test_count):\n",
        "        rnd = random.randint(1, num - 1)\n",
        "        if (rnd ** (num - 1) % num != 1):\n",
        "            return False\n",
        "    return True\n",
        "\n",
        "#Тест Ферма с быстрым возведением в степень по модулю:\n",
        "\n",
        "#Функция быстрого возведения в степень по модулю (x^y mod(n))\n",
        "#Представляем степень в двоичном виде и используем правило,\n",
        "#что (a*b)modN=(a*(b modN))modN\n",
        "def fast_pow_mod(x,y,n):\n",
        "    #запись степени в двоичной системе счисления\n",
        "    bin_y=bin(y)[2:]\n",
        "    res=int(bin_y[0]) #инициализация \n",
        "    for i in bin_y:\n",
        "        if int(i)==1:\n",
        "            res=(res**2 *x) % n\n",
        "        else: res=(res**2) % n\n",
        "    return res\n",
        "\n",
        "#быстрый тест Ферма  \n",
        "def is_prime_ferma_fast(num, test_count):\n",
        "    for i in range(test_count):\n",
        "        rnd = random.randint(1, num - 1)\n",
        "        if fast_pow_mod(rnd,num-1,num)!=1:\n",
        "            return False\n",
        "    return True"
      ],
      "execution_count": null,
      "outputs": []
    },
    {
      "cell_type": "markdown",
      "metadata": {
        "id": "iMHwWt5-dt2-"
      },
      "source": [
        "4.1). Тест Ферма без оптимизации"
      ]
    },
    {
      "cell_type": "code",
      "metadata": {
        "id": "2GVCnF-WcP3z",
        "outputId": "4b1cca39-c8f1-40ac-efb0-a60e65fbb1a0",
        "colab": {
          "base_uri": "https://localhost:8080/",
          "height": 50
        }
      },
      "source": [
        "if d>5:\n",
        "  print('Может не надо?')\n",
        "  duration_slow_ferma = 'Не определено'\n",
        "else:\n",
        "  #Выходные величины\n",
        "  res_sum=0 #сумма искомых чисел\n",
        "  kol_include=0 #кол-во искомых символов\n",
        "  find_numbers=[]\n",
        "  #медленный Ферма:\n",
        "  start_time=time.time() #стартовое время работы алгоритма\n",
        "  all_str_with_nums= get_number_consider_s(s,d)\n",
        "  for num in all_str_with_nums:\n",
        "      if is_prime_ferma_slow(num,10):\n",
        "          find_numbers.append(num)\n",
        "          res_sum+=num\n",
        "          kol_include+=1\n",
        "  duration_slow_ferma=str(time.time()-start_time)\n",
        "  print(kol_include, res_sum)\n",
        "  print('Время работы алгоритма:' + duration_slow_ferma + ' сек.')\n",
        " "
      ],
      "execution_count": null,
      "outputs": [
        {
          "output_type": "stream",
          "text": [
            "46 1815280\n",
            "Время работы алгоритма:12.68758773803711 сек.\n"
          ],
          "name": "stdout"
        }
      ]
    },
    {
      "cell_type": "markdown",
      "metadata": {
        "id": "SV7BrZBmdsuq"
      },
      "source": [
        "4.2). Тест Ферма с быстрым возведением в степень по модулю"
      ]
    },
    {
      "cell_type": "code",
      "metadata": {
        "id": "EiryLB9Y7Wez",
        "outputId": "8654eb1e-45d7-419d-8918-db502e8d203a",
        "colab": {
          "base_uri": "https://localhost:8080/",
          "height": 50
        }
      },
      "source": [
        "  #Выходные величины\n",
        "  res_sum=0 #сумма искомых чисел\n",
        "  kol_include=0 #кол-во искомых символов\n",
        "  find_numbers=[]\n",
        "  start_time=time.time() #стартовое время работы алгоритма\n",
        "  all_str_with_nums= get_number_consider_s(s,d)\n",
        "  for num in all_str_with_nums:\n",
        "      if is_prime_ferma_fast(num,10):\n",
        "          find_numbers.append(num)\n",
        "          res_sum+=num\n",
        "          kol_include+=1\n",
        "  duration_fast_ferma=str(time.time()-start_time)\n",
        "  print(kol_include, res_sum)\n",
        "  print('Время работы алгоритма:' + duration_fast_ferma + ' сек.')"
      ],
      "execution_count": null,
      "outputs": [
        {
          "output_type": "stream",
          "text": [
            "46 1815280\n",
            "Время работы алгоритма:0.009276628494262695 сек.\n"
          ],
          "name": "stdout"
        }
      ]
    },
    {
      "cell_type": "markdown",
      "metadata": {
        "id": "xkLxAKesKkRm"
      },
      "source": [
        "## 5). Тест на простоту с использованием библиотеки sympy\n",
        "\n",
        "\n",
        "---\n",
        "\n"
      ]
    },
    {
      "cell_type": "code",
      "metadata": {
        "id": "32XqrdgBKlWo",
        "outputId": "e9ab8130-fdbf-49a2-c56d-c1a6a5857193",
        "colab": {
          "base_uri": "https://localhost:8080/",
          "height": 50
        }
      },
      "source": [
        "#библиотечный тест на простоту\n",
        "res_sum=0\n",
        "kol_include=0\n",
        "find_numbers=[]\n",
        "start_time=time.time() #стартовое время работы алгоритма\n",
        "all_str_with_nums= get_number_consider_s(s,d)\n",
        "for num in all_str_with_nums:\n",
        "    if sympy.isprime(num):\n",
        "        find_numbers.append(num)\n",
        "        res_sum+=num\n",
        "        kol_include+=1\n",
        "duration_sympy_is_simple=str(time.time()-start_time)        \n",
        "print(kol_include, res_sum)\n",
        "print('Время работы алгоритма:' + duration_sympy_is_simple + ' сек.')\n"
      ],
      "execution_count": null,
      "outputs": [
        {
          "output_type": "stream",
          "text": [
            "46 1815280\n",
            "Время работы алгоритма:0.001195669174194336 сек.\n"
          ],
          "name": "stdout"
        }
      ]
    },
    {
      "cell_type": "markdown",
      "metadata": {
        "id": "vE0NGo0D97tv"
      },
      "source": [
        "## 6). [Тест Миллера-Рабина](https://ru.wikipedia.org/wiki/%D0%A2%D0%B5%D1%81%D1%82_%D0%9C%D0%B8%D0%BB%D0%BB%D0%B5%D1%80%D0%B0_%E2%80%94_%D0%A0%D0%B0%D0%B1%D0%B8%D0%BD%D0%B0)\n",
        "\n",
        "---\n",
        "\n",
        "Тест Миллера — Рабина — вероятностный полиномиальный тест простоты. Тест Миллера — Рабина позволяет эффективно определять, является ли данное число составным. Однако, с его помощью нельзя строго доказать простоту числа.\n",
        "\n",
        "Пусть $m$ — нечётное число большее 1, тогда\n",
        "$$n-1 = 2^{s}t, t -  нечётно.n — нечётное,>1.$$\n",
        "\n",
        "Целое число $a,1<a<n$ , называется свидетелем простоты числа $m$, если выполняется одно из условий:\n",
        "1. $a^t \\equiv 1 (mod n)$\n",
        "\n",
        "2. Cуществует целое число $k,0 \\le k < s$ , такое, что $a^{2^k t} \\equiv -1 (mod n)$.\n",
        "\n",
        "<p>Алгоритм Миллера — Рабина параметризуется количеством раундов $r$.</p>\n",
        "<p>Рекомендуется брать  порядка величины $\\log_2(n)$, где $n$ — проверяемое число.</p>\n",
        "<p>Вероятность ошибки теста Рабина-Миллера не превышает 1/4. Таким образом, применяя тест Рабина-Миллера $r$ раз для разных оснований, мы получаем вероятность ошибки $2^{-2r}$.</p>\n",
        "\n",
        "[О выборе кол-ва раундов](https://stackoverflow.com/questions/6325576/how-many-iterations-of-rabin-miller-should-i-use-for-cryptographic-safe-primes)\n",
        "\n",
        "**Псевдокод**\n",
        "___________________________________________________________________________________________________\n",
        "\n",
        "1. Для данного $n$  находятся такие целое число $s$ и целое нечётное число $t$, что $n − 1 = 2^s t$. Это можно сделать последовательным делением $n-1$ на 2\n",
        "цикл А: повторить k раз:\n",
        "2. Выбирается случайное число $a$, $2<a<n-2$  . \n",
        "3. x = $a^t mod n$\n",
        "* если x = 1 или x = n − 1, то перейти на следующую итерацию цикла А\n",
        "   *  цикл B: повторить s − 1 раз\n",
        "     *    $x = x^2 mod n$\n",
        "     *    если x = 1, то вернуть составное\n",
        "     *    если x = n − 1, то перейти на следующую итерацию цикла A\n",
        "   * вернуть составное\n",
        "* вернуть вероятно простое"
      ]
    },
    {
      "cell_type": "code",
      "metadata": {
        "id": "skqENuaIlNzs",
        "outputId": "42352b33-fa10-4e4c-dc64-7ef6559775c5",
        "colab": {
          "base_uri": "https://localhost:8080/",
          "height": 34
        }
      },
      "source": [
        "#Расчет оптимального кол-ва операций для повтора\n",
        "import math\n",
        "print (math.log(10**7,2))"
      ],
      "execution_count": null,
      "outputs": [
        {
          "output_type": "stream",
          "text": [
            "23.25349666421154\n"
          ],
          "name": "stdout"
        }
      ]
    },
    {
      "cell_type": "code",
      "metadata": {
        "id": "LylAAO72-WQP",
        "outputId": "8a2fad19-c89e-49b4-de95-3a9c1aba705e",
        "colab": {
          "base_uri": "https://localhost:8080/",
          "height": 50
        }
      },
      "source": [
        "summ = 0\n",
        "count = 0\n",
        "\n",
        "def miller_rabin(n, r):\n",
        "    import random\n",
        "    # Если число четное кроме 2, оно составное\n",
        "    if n == 2:\n",
        "        return True\n",
        "    if n % 2 == 0:\n",
        "        return False\n",
        "\n",
        "    # Последовательное  деление\n",
        "    s, t = 0, n - 1\n",
        "    while t % 2 == 0:\n",
        "        #степень\n",
        "        s += 1\n",
        "        #число\n",
        "        t //= 2\n",
        "    #Кол-во повторений алгоритма\n",
        "    for _ in range(r):\n",
        "        #Выбор случайного числа\n",
        "        a = random.randrange(2, n - 2)\n",
        "        #Проверка условия 1\n",
        "        x = pow(a, t, n)\n",
        "        if x == 1 or x == n - 1:\n",
        "            continue\n",
        "        #Проверка условия 2\n",
        "        for k in range(s - 1):\n",
        "            x = pow(x, 2, n)\n",
        "            if x == 1:\n",
        "                return False\n",
        "            if x == n - 1:\n",
        "                break\n",
        "        else:\n",
        "            return False\n",
        "    return True\n",
        "\n",
        "\n",
        "start_time=time.time()\n",
        "all_str_with_nums= get_number_consider_s(s,d)\n",
        "for i in all_str_with_nums:\n",
        "#Берем 40 операций, как оптимальное число для проверки на простоту, по расчету при d=7 достаточное кол-во операций 24\n",
        "    if miller_rabin(i,40) == True:\n",
        "        summ+=i\n",
        "        count+=1\n",
        "duration_miller_rabin=str(time.time()-start_time)\n",
        "print(count, summ)\n",
        "print('Время работы алгоритма:' + duration_miller_rabin + ' сек.')"
      ],
      "execution_count": null,
      "outputs": [
        {
          "output_type": "stream",
          "text": [
            "46 1815280\n",
            "Время работы алгоритма:0.008523225784301758 сек.\n"
          ],
          "name": "stdout"
        }
      ]
    },
    {
      "cell_type": "markdown",
      "metadata": {
        "id": "f9q2CnfVhDbX"
      },
      "source": [
        "## 7). Выводы\n",
        "\n",
        "---\n",
        "Сравнение продолжительности работы различных алгоритмов решения исходной задачи:"
      ]
    },
    {
      "cell_type": "code",
      "metadata": {
        "id": "nUpeuqX866lM",
        "outputId": "334b8e62-6ac4-4257-d603-8fa46bc582b4",
        "colab": {
          "base_uri": "https://localhost:8080/",
          "height": 134
        }
      },
      "source": [
        "print('1. Перебор делителей для определения простоты числа:' + duration_perebor + ' сек.')\n",
        "print('2. Перебор делителей в оптимизированном списке:' + duration_str_simple_test + ' сек.')\n",
        "print('3. Решето Эратосфена для определения простоты числа:' + duration_eratosphen + ' сек.')\n",
        "print('4.1. Простой тест Ферма:' + duration_slow_ferma + ' сек.')\n",
        "print('4.2. Тест Ферма с быстрым возведением в степень по модулю:' + duration_fast_ferma + ' сек.')\n",
        "print('5. Тест на простоту из библиотеки sympy:' + duration_sympy_is_simple + ' сек.')\n",
        "print('6. Тест Миллера-Рабина:' + duration_miller_rabin + ' сек.')"
      ],
      "execution_count": null,
      "outputs": [
        {
          "output_type": "stream",
          "text": [
            "1. Перебор делителей для определения простоты числа:0.329587459564209 сек.\n",
            "2. Перебор делителей в оптимизированном списке:0.0015337467193603516 сек.\n",
            "3. Решето Эратосфена для определения простоты числа:0.02453923225402832 сек.\n",
            "4.1. Простой тест Ферма:12.68758773803711 сек.\n",
            "4.2. Тест Ферма с быстрым возведением в степень по модулю:0.009276628494262695 сек.\n",
            "5. Тест на простоту из библиотеки sympy:0.001195669174194336 сек.\n",
            "6. Тест Миллера-Рабина:0.008523225784301758 сек.\n"
          ],
          "name": "stdout"
        }
      ]
    }
  ]
}