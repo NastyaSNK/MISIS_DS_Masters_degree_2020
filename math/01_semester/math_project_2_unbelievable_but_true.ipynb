{
 "cells": [
  {
   "cell_type": "markdown",
   "metadata": {},
   "source": [
    "# 1. Моделирование пуассоновской случайной величины "
   ]
  },
  {
   "cell_type": "markdown",
   "metadata": {},
   "source": [
    "Сервис по заказу такси “Блиц” расширяется и открывается в городе Барнаул. Необходимо рассчитать примерную нагрузку на таксистов. Доступа к данным с заказами у нас нет – ещё бы, это же ценная информация! Поэтому придется эти данные сгенерировать. Напишем функцию, возвращающую случайные значения, распределенные по закону Пуассона.\n",
    "\n",
    "Как вы знаете, вероятность того, что пуассоновская случайная величина имеет значение $k$, равно $f(k, l)=\\frac{l^k e^{-l}} {k!}$, где $l$(лямбда) - параметр распределения.\n",
    "\n",
    "Для того, чтобы сгенерировать значения такой случайной величины, воспользуемся следующим алгоритмом: выберем случайное число $y$ из промежутка [0, 1]. Затем будем суммировать  $f(k, l)$ до тех пор, пока сумма не превысит выбранного числа (y). Тот $k$, на котором сумма превысила $y$ - это и есть наш результат.\n",
    "Таким образом мы находим, при каком $k$ значение кумулятивной функции распределения превышает выбранное случайное число.\n",
    "\n",
    "- **Входные данные**: параметр l.\n",
    "- **Результат**: напишите функцию poisson(l), которая будет возвращать значения, распределённые по закону Пуассона с параметром l.\n",
    "- **Пример входных данных**: A = [[1, 2]], B=[[2], [1]], C=[[5]]\n",
    "Например, poisson(3) чаще всего будет возвращать 2 или 3. "
   ]
  },
  {
   "cell_type": "code",
   "execution_count": 69,
   "metadata": {},
   "outputs": [
    {
     "data": {
      "text/plain": [
       "2.94"
      ]
     },
     "execution_count": 69,
     "metadata": {},
     "output_type": "execute_result"
    }
   ],
   "source": [
    "import random\n",
    "from math import exp, factorial\n",
    "def f(k,l):\n",
    "    return pow(l,k)*exp(-l)/factorial(k)\n",
    "def poisson(l):\n",
    "    y = random.random()\n",
    "    k = 0\n",
    "    sum = f(0,l)\n",
    "    while sum <= y: #после 170 размер k превышает разремеры переменной типа float\n",
    "        k += 1\n",
    "        sum += f(k,l)\n",
    "    return k\n",
    "# Среднее значение\n",
    "sum([poisson(3) for i in range(1000)])/1000"
   ]
  },
  {
   "cell_type": "markdown",
   "metadata": {},
   "source": [
    "# 2. Насколько модельные данные отличаются от реальных?\n",
    "Отлично, сервис “Блиц” зашел на рынок транспортных услуг Барнаула и успешно доставляет пассажиров из точки А в точку N! Пришло время проверить, насколько сгенерированные нами ранее данные отличаются от реальных.\n",
    "Для этого напишем функцию, которая генерирует массив случайных значений и сравнивает его с реальными данными – находит средний квадрат разности. Это стандартная метрика для нахождения отклонения одной величины от другой.\n",
    "\n",
    "Будем считать, что у нас есть данные по дням за последний год (365 чисел). А именно, пусть у нас есть массив, $i-й$ элемент которого содержит число пассажиров, перевезённых одним водителем в $i-й$ день года. Будем считать, что эта случайная величина имеет **распределение Пуассона**.\n",
    "\n",
    "Вам требуется найти параметр lambda (напомним, что среднее значение пуассоновской величины как раз равно этому параметру). Затем, используя результат из предыдущей задачи, сгенерируйте 365 чисел. Имея два массива (исходные данные и сгенерированные вами), посчитайте средний квадрат разности между соответствующими значениями: sum((data_real[i] - data_generated[i])2)/365.\n",
    "\n",
    "**Входные данные**: массив data_real из 365 элементов, каждый из элементов равен количеству перевезённых пассажиров в соответствующий день.\n",
    "**Результат**: напишите функцию poisson_error(data), которая сгенерирует массив data_generated и вернёт средний квадрат разности между исходными и сгенерированными данными. "
   ]
  },
  {
   "cell_type": "code",
   "execution_count": 59,
   "metadata": {},
   "outputs": [
    {
     "data": {
      "text/plain": [
       "0.049787068367863944"
      ]
     },
     "execution_count": 59,
     "metadata": {},
     "output_type": "execute_result"
    }
   ],
   "source": [
    "f(0,3)"
   ]
  },
  {
   "cell_type": "code",
   "execution_count": null,
   "metadata": {},
   "outputs": [],
   "source": [
    "# Напишите ваш код ниже\n",
    "import random\n",
    "from math import exp, factorial\n",
    "def f(k,l):\n",
    "    return pow(l,k)*exp(-l)/factorial(k)\n",
    "def poisson(l):\n",
    "    y = random.random()\n",
    "    k = 0\n",
    "    sum = f(0,l)\n",
    "    while sum <= y:\n",
    "        k += 1\n",
    "        sum += f(k,l)\n",
    "    return k\n",
    "\n",
    "def poisson_error(data):\n",
    "    lmbd = sum(data)/len(data)\n",
    "    data_generated = [poisson(lmbd) for i in range(len(data))]\n",
    "    return sum([(data[i] - data_generated[i])**2 for i in range(len(data))])/len(data)"
   ]
  },
  {
   "cell_type": "markdown",
   "metadata": {},
   "source": [
    "# 3. Вероятность перевезти ровно k пассажиров\n",
    "\n",
    "Корбен, водитель сервиса такси “Блиц” решил заключить пари с другом. Он утверждает, что завтра у него будет ровно $k$ заказов. Используя исторические данные, найдите параметр пуассоновского распределения $l$ (лямбда) и оцените эту вероятность.\n",
    "\n",
    "**Входные данные**: данные по поездкам data за предыдущие 365 дней и число k.\n",
    "**Результат**: напишите функцию poisson_prob(data, k), вероятность того, что водитель завтра перевезёт ровно k пассажиров.\n",
    "**Пример**: допустим, что data имеет распределение Пуассона с параметром l=3. Тогда функция poisson_prob(data, 3) должна вернуть 0.22404180765538773 . "
   ]
  },
  {
   "cell_type": "code",
   "execution_count": null,
   "metadata": {},
   "outputs": [],
   "source": [
    "def poisson_prob(data, k):\n",
    "    lmbd = sum(data)/len(data)\n",
    "    return f(k,lmbd)"
   ]
  },
  {
   "cell_type": "markdown",
   "metadata": {},
   "source": [
    "# 4. Время ожидания следующего пассажира\n",
    "Пусть заказы в течение рабочей смены (8 часов) водителя не имеют пиков (т. е., это процесс Пуассона). Корбен хочет сделать перерыв на обед, но не хочет пропускать заказы - тут без вашей помощи не обойтись. Посчитайте матожидание времени до следующего заказа, чтобы Корбен смог спланировать свой перекус.\n",
    "\n",
    "- **Входные данные**: как и в предыдущей задаче, вам доступны исторические данные по заказам за предыдущий год data (массив data из 365 элементов).\n",
    "- **Результат**: напишите функцию time_to_order(data), которая восстанавливает параметр l пуассоновского распределения и возвращает ожидаемое время до следующего заказа в часах.\n",
    "Например, если вычисленный параметр распределения l будет равен 3, то функция time_to_order должна вернуть 2.6666666666666665. Подсказка: используйте экспоненциальное распределение. "
   ]
  },
  {
   "cell_type": "code",
   "execution_count": 70,
   "metadata": {},
   "outputs": [],
   "source": [
    "def time_to_order(data):\n",
    "    lmbd = sum(data)/len(data)\n",
    "    return 1/lmbd*8"
   ]
  },
  {
   "cell_type": "markdown",
   "metadata": {},
   "source": [
    "# 5. Смесь распределений\n",
    "Количество клиентов сервиса “Блиц” разнится изо дня в день. В целом, мы можем выделить обычные дни (основной поток), а также дни, когда происходят некоторые “знаковые” события (дополнительный поток): например, концерты или футбольные матчи. В такие “знаковые” дни пассажиропоток, а следовательно и число клиентов, растет. Необходимо найти параметры распределений основного потока и дополнительного.\n",
    "\n",
    "Пусть вам даны количества поездок за предыдущие **365** дней и массив с номерами дней, которые были праздничными. Необходимо вернуть параметры пуассоновского распределения для обычных дней и для праздничных.\n",
    "\n",
    "- **Входные данные:** массив data с данными о количестве поездок и массив days с номерами праздничных дней (индексация с нуля).\n",
    "- **Результат:** напишите функцию estimate_parameters(data, days), возвращающую кортеж из двух чисел (l_usual, l_special). l_usual - параметр распределения в обычные дни, l_special - в праздничные. "
   ]
  },
  {
   "cell_type": "code",
   "execution_count": null,
   "metadata": {},
   "outputs": [],
   "source": [
    "#    data1 = data[data.index.isin(days)].copy()\n",
    "#    data2 = data[~data.index.isin(days)].copy()"
   ]
  },
  {
   "cell_type": "code",
   "execution_count": 109,
   "metadata": {},
   "outputs": [],
   "source": [
    "import numpy as np\n",
    "data = [1,2,3,4,5,6,7]\n",
    "days = [0,3,4,6]"
   ]
  },
  {
   "cell_type": "code",
   "execution_count": 110,
   "metadata": {},
   "outputs": [],
   "source": [
    "def estimate_parameters(data, days):\n",
    "    anti_index = list(set([i for i in range(len(data))]) - set(days))\n",
    "    data1 = data[days].copy()\n",
    "    data2 = data[anti_index].copy()\n",
    "    lmbd1 = sum(data1)/len(data1)\n",
    "    lmbd2 = sum(data2)/len(data2)\n",
    "    return (lmbd2,lmbd1)"
   ]
  },
  {
   "cell_type": "code",
   "execution_count": 111,
   "metadata": {},
   "outputs": [
    {
     "name": "stdout",
     "output_type": "stream",
     "text": [
      "11.8 µs ± 402 ns per loop (mean ± std. dev. of 7 runs, 100000 loops each)\n"
     ]
    }
   ],
   "source": [
    "%timeit estimate_parameters(data, days)"
   ]
  },
  {
   "cell_type": "code",
   "execution_count": 120,
   "metadata": {},
   "outputs": [],
   "source": [
    "def estimate_parameters(data, days):\n",
    "    anti_index = list(set([i for i in range(len(data))]) - set(days))\n",
    "    data1 = [data[x] for x in days]\n",
    "    data2 = [data[x] for x in anti_index]\n",
    "    lmbd1 = sum(data1)/len(data1)\n",
    "    lmbd2 = sum(data2)/len(data2)\n",
    "    return (lmbd2,lmbd1)"
   ]
  },
  {
   "cell_type": "code",
   "execution_count": 121,
   "metadata": {},
   "outputs": [
    {
     "name": "stdout",
     "output_type": "stream",
     "text": [
      "5.3 µs ± 114 ns per loop (mean ± std. dev. of 7 runs, 100000 loops each)\n"
     ]
    }
   ],
   "source": [
    "%timeit estimate_parameters3(data, days)"
   ]
  },
  {
   "cell_type": "code",
   "execution_count": 116,
   "metadata": {},
   "outputs": [],
   "source": [
    "# Решение автора задачи (самое быстрое, тк в одном цикле  селектим по индексам)\n",
    "def estimate_parameters2(data, days):\n",
    "    days = set(days)\n",
    "    usual, holidays = [], []\n",
    "    for i in range(len(data)):\n",
    "        if i in days:\n",
    "            holidays.append(data[i])\n",
    "        else:\n",
    "            usual.append(data[i])\n",
    "    return (sum(usual) / len(usual), sum(holidays) / len(holidays))"
   ]
  },
  {
   "cell_type": "code",
   "execution_count": 117,
   "metadata": {},
   "outputs": [
    {
     "name": "stdout",
     "output_type": "stream",
     "text": [
      "1.68 µs ± 41.1 ns per loop (mean ± std. dev. of 7 runs, 1000000 loops each)\n"
     ]
    }
   ],
   "source": [
    "%timeit estimate_parameters2(data, days)"
   ]
  }
 ],
 "metadata": {
  "kernelspec": {
   "display_name": "Python 3",
   "language": "python",
   "name": "python3"
  },
  "language_info": {
   "codemirror_mode": {
    "name": "ipython",
    "version": 3
   },
   "file_extension": ".py",
   "mimetype": "text/x-python",
   "name": "python",
   "nbconvert_exporter": "python",
   "pygments_lexer": "ipython3",
   "version": "3.8.3"
  }
 },
 "nbformat": 4,
 "nbformat_minor": 4
}
