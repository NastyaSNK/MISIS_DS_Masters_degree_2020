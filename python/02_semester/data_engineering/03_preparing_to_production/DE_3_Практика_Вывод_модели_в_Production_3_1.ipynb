{
  "nbformat": 4,
  "nbformat_minor": 0,
  "metadata": {
    "kernelspec": {
      "display_name": "Python 3",
      "language": "python",
      "name": "python3"
    },
    "language_info": {
      "codemirror_mode": {
        "name": "ipython",
        "version": 3
      },
      "file_extension": ".py",
      "mimetype": "text/x-python",
      "name": "python",
      "nbconvert_exporter": "python",
      "pygments_lexer": "ipython3",
      "version": "3.7.1"
    },
    "colab": {
      "name": "DE_3_Практика_Вывод_модели_в_Production_3_1.ipynb",
      "provenance": [],
      "collapsed_sections": [],
      "toc_visible": true
    }
  },
  "cells": [
    {
      "cell_type": "markdown",
      "metadata": {
        "id": "jZjMfjLdq1l5"
      },
      "source": [
        "# Практика 2. Вывод модели в Production\n",
        "\n",
        "## Повторение пройденного:\n",
        "\n",
        "### 1. Мы используем обученную модель повторно. Если обучение прошло успешно, мы хотим сохранить ее и использовать много раз. Когда возникнет необходимость, мы ее переобучим и сохраним для последующего использования и так - до бесконечности.\n",
        "### 2. В нашем распоряжении есть несколько средств:\n",
        "#### 2.1. Сериализовать нашу модель и объекты с нужными нам данными в файл с использованием Pickle\n",
        "#### 2.2. Сериализовать нашу модель и пайплайн обработки в файл с помощью joblib\n",
        "#### 2.3. Сохранить обученную модель в формате ONNX (Open Neural Network Exchange) в файл\n",
        "### 3. Эти форматы позволяют нам сохранить результат обучения для повторного использования или передаче работоспособной модели нашим коллегам.\n",
        "\n",
        "## Что мы сегодня делаем?\n",
        "\n",
        "### У нас есть датасет, где собрана информаци по тендерам в файле CSV (tenders.csv в папке X в ваших блокнотах Collab). В датасете такие поля, которые мы будем использовать или нет:\n",
        "\n",
        "#### Name - название тендера (в идеале - описание предмета закупки). Текст, который мы будем анализировать и искать соответствие его тому, что мы предполагаем увидеть в классификаторе - PurchaseArea, см. ниже.\n",
        "#### Id - номер тендера. Исключительно техническая нагрузка. Уникальный идентификатор строки.\n",
        "#### Region - Информационно. Наименование региона. Например, \"Орловская обл.\"\n",
        "#### Location - Информационно. Название города , куда осуществляется закупка. Например, \"г. Усть-Баргузин\"\n",
        "#### Buyer - Информационно. Наименование организации, объявившей закупку.\n",
        "#### TenderType - Классификатор торговой процедуры: 44-ФЗ, 223-ФЗ, Коммерческая. Будет использоваться для вспомогательной аналитики.\n",
        "#### Placement - Способ размещения торговой процедуры: Электронные аукционы, Запросы котировок и предложений, Нерегламентированные закупки и т.п. Будет использоваться для вспомогательной аналитики\n",
        "#### PublishedDate - Информационно. Дата публикации\n",
        "#### StartingPrice - Начальная (минимальная) цена торгов. Отобраны только непустые значения с объявленной ценой. Будем использовать для вспомогательного анализа.\n",
        "#### PurchaseArea - Классификатор вида закупки. Мы это будем пытаться предсказывать.\n",
        "\n",
        "### Этот датасет мы преобразуем в DataFrame и используем для обучения модели.\n",
        "\n",
        "## Ниже проиллюстрированы шаги работы. ВЫ ДОЛЖНЫ МОДИФИЦИРОВАТЬ подготовку данных и обучение модели. Результат сохранить в перечисленные форматы экспорта.\n",
        "\n",
        "## Ваши товарищи возьмут файл, инициализируют модель и проверят ее на тестовом множестве\n",
        "\n"
      ]
    },
    {
      "cell_type": "markdown",
      "metadata": {
        "id": "MGQNqYMEq1l_"
      },
      "source": [
        "## Шаг 0. Заберем данные из файла (пример работы с Pandas)"
      ]
    },
    {
      "cell_type": "code",
      "metadata": {
        "id": "PEqDR3EILBIu",
        "colab": {
          "base_uri": "https://localhost:8080/",
          "height": 459
        },
        "outputId": "5741a858-c230-4d0f-83f8-20e5699b7c1f"
      },
      "source": [
        "import pandas as pd\r\n",
        "import requests\r\n",
        "\r\n",
        "orig_url='https://drive.google.com/file/d/1iIkvmDLb3zUn-iVpU1j7Zyp1C_Yv6tJx/view?usp=sharing'\r\n",
        "\r\n",
        "# https://drive.google.com/file/d/1iIkvmDLb3zUn-iVpU1j7Zyp1C_Yv6tJx/view\r\n",
        "file_id = orig_url.split('/')[-2]\r\n",
        "dwn_url='https://drive.google.com/uc?export=download&id=' + file_id\r\n",
        "url = requests.get(dwn_url).text\r\n",
        "tenders = pd.read_csv(dwn_url,                    \r\n",
        "                   encoding='utf-8',     # обязательно указываем кодировку utf-8! Иначе нам не распарсить! \r\n",
        "                     engine='python',        # не обязательно, но убирает один надоедливый WARNING от IPython\r\n",
        "                     delimiter=',')           # обязательный параметр - разделитель!)\r\n",
        "tenders.head()"
      ],
      "execution_count": null,
      "outputs": [
        {
          "output_type": "execute_result",
          "data": {
            "text/html": [
              "<div>\n",
              "<style scoped>\n",
              "    .dataframe tbody tr th:only-of-type {\n",
              "        vertical-align: middle;\n",
              "    }\n",
              "\n",
              "    .dataframe tbody tr th {\n",
              "        vertical-align: top;\n",
              "    }\n",
              "\n",
              "    .dataframe thead th {\n",
              "        text-align: right;\n",
              "    }\n",
              "</style>\n",
              "<table border=\"1\" class=\"dataframe\">\n",
              "  <thead>\n",
              "    <tr style=\"text-align: right;\">\n",
              "      <th></th>\n",
              "      <th>Name</th>\n",
              "      <th>Id</th>\n",
              "      <th>Region</th>\n",
              "      <th>Location</th>\n",
              "      <th>Buyer</th>\n",
              "      <th>TenderType</th>\n",
              "      <th>Placement</th>\n",
              "      <th>PublishedDate</th>\n",
              "      <th>StartingPrice</th>\n",
              "      <th>PurchaseArea</th>\n",
              "    </tr>\n",
              "  </thead>\n",
              "  <tbody>\n",
              "    <tr>\n",
              "      <th>0</th>\n",
              "      <td>\"Выполнение работ по ремонту автомобильной дор...</td>\n",
              "      <td>50655430</td>\n",
              "      <td>Иркутская.обл</td>\n",
              "      <td>г. Иркутск</td>\n",
              "      <td>КОМИТЕТ ГОРОДСКОГО ОБУСТРОЙСТВА АДМИНИСТРАЦИИ ...</td>\n",
              "      <td>44-ФЗ</td>\n",
              "      <td>Конкурсы и аукционы</td>\n",
              "      <td>18.02.2021 14:45:10</td>\n",
              "      <td>13774127</td>\n",
              "      <td>Строительство, ремонт и обслуживание дорог, мо...</td>\n",
              "    </tr>\n",
              "    <tr>\n",
              "      <th>1</th>\n",
              "      <td>\"Поставка рамок алюминиевых для постера в Клин...</td>\n",
              "      <td>50653629</td>\n",
              "      <td>Москва.г</td>\n",
              "      <td>Город Москва</td>\n",
              "      <td>ФКУЗ \"МСЧ МВД РОССИИ ПО Г. МОСКВЕ\"</td>\n",
              "      <td>44-ФЗ</td>\n",
              "      <td>Закупки малого объема</td>\n",
              "      <td>18.02.2021 14:43:19</td>\n",
              "      <td>35000</td>\n",
              "      <td>Оборудование и материалы для рекламы, изготовл...</td>\n",
              "    </tr>\n",
              "    <tr>\n",
              "      <th>2</th>\n",
              "      <td>\"Ремонт проезда в микрорайоне №11, между домам...</td>\n",
              "      <td>50655159</td>\n",
              "      <td>Ямало-Ненецкий.АО</td>\n",
              "      <td>г. Губкинский</td>\n",
              "      <td>МУНИЦИПАЛЬНОЕ КАЗЕННОЕ УЧРЕЖДЕНИЕ \"УПРАВЛЕНИЕ ...</td>\n",
              "      <td>44-ФЗ</td>\n",
              "      <td>Электронные аукционы</td>\n",
              "      <td>18.02.2021 14:41:07</td>\n",
              "      <td>900000</td>\n",
              "      <td>Строительство, ремонт и обслуживание дорог, мо...</td>\n",
              "    </tr>\n",
              "    <tr>\n",
              "      <th>3</th>\n",
              "      <td>\"Выполнение работ по ремонту дороги по ул. Ямк...</td>\n",
              "      <td>50655152</td>\n",
              "      <td>Ямало-Ненецкий.АО</td>\n",
              "      <td>Приуральский район, село Аксарка</td>\n",
              "      <td>АДМИНИСТРАЦИЯ МУНИЦИПАЛЬНОГО ОБРАЗОВАНИЯ АКСАР...</td>\n",
              "      <td>44-ФЗ</td>\n",
              "      <td>Электронные аукционы</td>\n",
              "      <td>18.02.2021 14:40:54</td>\n",
              "      <td>10814664</td>\n",
              "      <td>Строительство, ремонт и обслуживание дорог, мо...</td>\n",
              "    </tr>\n",
              "    <tr>\n",
              "      <th>4</th>\n",
              "      <td>\"Поставка вывесок для нужд судов Иркутской обл...</td>\n",
              "      <td>50644717</td>\n",
              "      <td>Иркутская.обл</td>\n",
              "      <td>Иркутская область</td>\n",
              "      <td>УПРАВЛЕНИЕ СУДЕБНОГО ДЕПАРТАМЕНТА В ИРКУТСКОЙ ...</td>\n",
              "      <td>44-ФЗ</td>\n",
              "      <td>Электронные аукционы</td>\n",
              "      <td>18.02.2021 14:40:37</td>\n",
              "      <td>136500</td>\n",
              "      <td>Оборудование и материалы для рекламы, изготовл...</td>\n",
              "    </tr>\n",
              "  </tbody>\n",
              "</table>\n",
              "</div>"
            ],
            "text/plain": [
              "                                                Name  ...                                       PurchaseArea\n",
              "0  \"Выполнение работ по ремонту автомобильной дор...  ...  Строительство, ремонт и обслуживание дорог, мо...\n",
              "1  \"Поставка рамок алюминиевых для постера в Клин...  ...  Оборудование и материалы для рекламы, изготовл...\n",
              "2  \"Ремонт проезда в микрорайоне №11, между домам...  ...  Строительство, ремонт и обслуживание дорог, мо...\n",
              "3  \"Выполнение работ по ремонту дороги по ул. Ямк...  ...  Строительство, ремонт и обслуживание дорог, мо...\n",
              "4  \"Поставка вывесок для нужд судов Иркутской обл...  ...  Оборудование и материалы для рекламы, изготовл...\n",
              "\n",
              "[5 rows x 10 columns]"
            ]
          },
          "metadata": {
            "tags": []
          },
          "execution_count": 73
        }
      ]
    },
    {
      "cell_type": "code",
      "metadata": {
        "id": "E4GgFTjWq1l_",
        "colab": {
          "base_uri": "https://localhost:8080/",
          "height": 459
        },
        "outputId": "5f191fad-5f4e-4754-cc7f-983a1cf279c4"
      },
      "source": [
        "# ЭТО НАЧАЛО ВАШЕЙ РАБОТЫ: загрузка файла CSV. \n",
        "\n",
        "import pandas as pd\n",
        "# мы используем для работы с данными pandas\n",
        "# создаем дата-фрейм из файла CSV\n",
        "\n",
        "## ВНИМАНИЕ! Файл может некорректно отображаться при выводе! Если это произойдет, откройте его в текстовом редакторе\n",
        "## и пересохраните в кодировке UTF8!!!!!!\n",
        "\n",
        "tenders = pd.read_csv(\n",
        "                     \"/content/sample_data/tenders2_utf.csv\", # путь к файлу!!! ВАШ ФАЙЛ ЛЕЖИТ В COLLAB! ЗАМЕНИТЕ!\n",
        "                    #  encoding='utf-8',     # обязательно указываем кодировку utf-8! Иначе нам не распарсить! \n",
        "                     engine='python',        # не обязательно, но убирает один надоедливый WARNING от IPython\n",
        "                     delimiter=','           # обязательный параметр - разделитель!\n",
        "                    )\n",
        "\n",
        "# Таким образом в нашем dataframe лежит весь набор данных целиком! Мы из него наберем нужные нам атрибуты,\n",
        "# а также обучающее и тестовое подмножества.\n",
        "\n",
        "\n",
        "\n",
        "# Выведем семпл из 5 случайных строк из DataFrame для того, чтобы проверить, все ли нормально прошло.\n",
        "\n",
        "tenders.sample(5)"
      ],
      "execution_count": null,
      "outputs": [
        {
          "output_type": "execute_result",
          "data": {
            "text/html": [
              "<div>\n",
              "<style scoped>\n",
              "    .dataframe tbody tr th:only-of-type {\n",
              "        vertical-align: middle;\n",
              "    }\n",
              "\n",
              "    .dataframe tbody tr th {\n",
              "        vertical-align: top;\n",
              "    }\n",
              "\n",
              "    .dataframe thead th {\n",
              "        text-align: right;\n",
              "    }\n",
              "</style>\n",
              "<table border=\"1\" class=\"dataframe\">\n",
              "  <thead>\n",
              "    <tr style=\"text-align: right;\">\n",
              "      <th></th>\n",
              "      <th>Name</th>\n",
              "      <th>Id</th>\n",
              "      <th>Region</th>\n",
              "      <th>Location</th>\n",
              "      <th>Buyer</th>\n",
              "      <th>TenderType</th>\n",
              "      <th>Placement</th>\n",
              "      <th>PublishedDate</th>\n",
              "      <th>StartingPrice</th>\n",
              "      <th>PurchaseArea</th>\n",
              "    </tr>\n",
              "  </thead>\n",
              "  <tbody>\n",
              "    <tr>\n",
              "      <th>13652</th>\n",
              "      <td>\"Выполнение работ по ремонту автомобильной дор...</td>\n",
              "      <td>49399457</td>\n",
              "      <td>Ханты-Мансийский Автономный округ - Югра.АО</td>\n",
              "      <td>г. Нижневартовск</td>\n",
              "      <td>МУНИЦИПАЛЬНОЕ БЮДЖЕТНОЕ УЧРЕЖДЕНИЕ \"УПРАВЛЕНИЕ...</td>\n",
              "      <td>44-ФЗ</td>\n",
              "      <td>Электронные аукционы</td>\n",
              "      <td>08.12.2020</td>\n",
              "      <td>85167021</td>\n",
              "      <td>Строительство, ремонт и обслуживание дорог, мо...</td>\n",
              "    </tr>\n",
              "    <tr>\n",
              "      <th>7633</th>\n",
              "      <td>\"Механизированная очистка дорог от снега на те...</td>\n",
              "      <td>50050103</td>\n",
              "      <td>Калужская.обл</td>\n",
              "      <td>Бабынинский район, село Сабуровщино</td>\n",
              "      <td>АДМИНИСТРАЦИЯ (ИСПОЛНИТЕЛЬНО-РАСПОРЯДИТЕЛЬНЫЙ ...</td>\n",
              "      <td>44-ФЗ</td>\n",
              "      <td>Закупки малого объема</td>\n",
              "      <td>20.01.2021</td>\n",
              "      <td>53650</td>\n",
              "      <td>Строительство, ремонт и обслуживание дорог, мо...</td>\n",
              "    </tr>\n",
              "    <tr>\n",
              "      <th>13611</th>\n",
              "      <td>\"Выполнение работ по содержанию автомобильной ...</td>\n",
              "      <td>49397125</td>\n",
              "      <td>Коми.Респ</td>\n",
              "      <td>Удорский район, село Большая Пучкома; деревня ...</td>\n",
              "      <td>МУНИЦИПАЛЬНОЕ КАЗЁННОЕ УЧРЕЖДЕНИЕ \"УПРАВЛЕНИЕ ...</td>\n",
              "      <td>44-ФЗ</td>\n",
              "      <td>Электронные аукционы</td>\n",
              "      <td>08.12.2020</td>\n",
              "      <td>953748</td>\n",
              "      <td>Строительство, ремонт и обслуживание дорог, мо...</td>\n",
              "    </tr>\n",
              "    <tr>\n",
              "      <th>16578</th>\n",
              "      <td>\"Стенд уличный тактильный 1210х910 мм\"</td>\n",
              "      <td>49173046</td>\n",
              "      <td>Москва.г</td>\n",
              "      <td>Город Москва</td>\n",
              "      <td>ГБПОУ ПТ №47</td>\n",
              "      <td>44-ФЗ</td>\n",
              "      <td>Закупки малого объема</td>\n",
              "      <td>30.11.2020</td>\n",
              "      <td>118250</td>\n",
              "      <td>Оборудование и материалы для рекламы, изготовл...</td>\n",
              "    </tr>\n",
              "    <tr>\n",
              "      <th>17650</th>\n",
              "      <td>\"Выполнение работ по ремонту подъездной и пеше...</td>\n",
              "      <td>49146253</td>\n",
              "      <td>Московская.обл</td>\n",
              "      <td>г. Видное</td>\n",
              "      <td>МУНИЦИПАЛЬНОЕ БЮДЖЕТНОЕ УЧРЕЖДЕНИЕ ЛЕНИНСКОГО ...</td>\n",
              "      <td>44-ФЗ</td>\n",
              "      <td>Закупки малого объема</td>\n",
              "      <td>27.11.2020</td>\n",
              "      <td>487338</td>\n",
              "      <td>Строительство, ремонт и обслуживание дорог, мо...</td>\n",
              "    </tr>\n",
              "  </tbody>\n",
              "</table>\n",
              "</div>"
            ],
            "text/plain": [
              "                                                    Name  ...                                       PurchaseArea\n",
              "13652  \"Выполнение работ по ремонту автомобильной дор...  ...  Строительство, ремонт и обслуживание дорог, мо...\n",
              "7633   \"Механизированная очистка дорог от снега на те...  ...  Строительство, ремонт и обслуживание дорог, мо...\n",
              "13611  \"Выполнение работ по содержанию автомобильной ...  ...  Строительство, ремонт и обслуживание дорог, мо...\n",
              "16578             \"Стенд уличный тактильный 1210х910 мм\"  ...  Оборудование и материалы для рекламы, изготовл...\n",
              "17650  \"Выполнение работ по ремонту подъездной и пеше...  ...  Строительство, ремонт и обслуживание дорог, мо...\n",
              "\n",
              "[5 rows x 10 columns]"
            ]
          },
          "metadata": {
            "tags": []
          },
          "execution_count": 30
        }
      ]
    },
    {
      "cell_type": "code",
      "metadata": {
        "id": "x_Gu1IVcq1mA",
        "colab": {
          "base_uri": "https://localhost:8080/",
          "height": 204
        },
        "outputId": "951aa1f8-8365-4e9a-8457-2f921f9ac0ce"
      },
      "source": [
        "\n",
        "# Нам нужна только часть полей. Те поля, которые отмечены в списке \"Информационно\", мы НЕ будем использовать в анализе. \n",
        "\n",
        "# Так мы укажем, что нам (возможно) потребуется. Минимум полей: Name (даннные для обучения) и PurchaseArea - разметка, \n",
        "# которую мы предсказываем\n",
        "\n",
        "tenders[[\"Id\", \"Name\", \"TenderType\", \"Placement\", \"StartingPrice\", \"PurchaseArea\"]].sample(5)"
      ],
      "execution_count": null,
      "outputs": [
        {
          "output_type": "execute_result",
          "data": {
            "text/html": [
              "<div>\n",
              "<style scoped>\n",
              "    .dataframe tbody tr th:only-of-type {\n",
              "        vertical-align: middle;\n",
              "    }\n",
              "\n",
              "    .dataframe tbody tr th {\n",
              "        vertical-align: top;\n",
              "    }\n",
              "\n",
              "    .dataframe thead th {\n",
              "        text-align: right;\n",
              "    }\n",
              "</style>\n",
              "<table border=\"1\" class=\"dataframe\">\n",
              "  <thead>\n",
              "    <tr style=\"text-align: right;\">\n",
              "      <th></th>\n",
              "      <th>Id</th>\n",
              "      <th>Name</th>\n",
              "      <th>TenderType</th>\n",
              "      <th>Placement</th>\n",
              "      <th>StartingPrice</th>\n",
              "      <th>PurchaseArea</th>\n",
              "    </tr>\n",
              "  </thead>\n",
              "  <tbody>\n",
              "    <tr>\n",
              "      <th>4771</th>\n",
              "      <td>50276052</td>\n",
              "      <td>\"Изготовление таблички\"</td>\n",
              "      <td>44-ФЗ</td>\n",
              "      <td>Закупки малого объема</td>\n",
              "      <td>166000</td>\n",
              "      <td>Оборудование и материалы для рекламы, изготовл...</td>\n",
              "    </tr>\n",
              "    <tr>\n",
              "      <th>13376</th>\n",
              "      <td>49447097</td>\n",
              "      <td>\"Закупка навигационных табличек для МБУК Серед...</td>\n",
              "      <td>44-ФЗ</td>\n",
              "      <td>Закупки малого объема</td>\n",
              "      <td>68300</td>\n",
              "      <td>Оборудование и материалы для рекламы, изготовл...</td>\n",
              "    </tr>\n",
              "    <tr>\n",
              "      <th>17246</th>\n",
              "      <td>49117933</td>\n",
              "      <td>\"Оказание услуг по содержанию внутрипоселковых...</td>\n",
              "      <td>44-ФЗ</td>\n",
              "      <td>Электронные аукционы</td>\n",
              "      <td>2645712</td>\n",
              "      <td>Строительство, ремонт и обслуживание дорог, мо...</td>\n",
              "    </tr>\n",
              "    <tr>\n",
              "      <th>5066</th>\n",
              "      <td>50260721</td>\n",
              "      <td>\"Изготовление информационных табличек\"</td>\n",
              "      <td>Коммерческие</td>\n",
              "      <td>Нерегламентированные закупки</td>\n",
              "      <td>128490</td>\n",
              "      <td>Оборудование и материалы для рекламы, изготовл...</td>\n",
              "    </tr>\n",
              "    <tr>\n",
              "      <th>14872</th>\n",
              "      <td>49337733</td>\n",
              "      <td>\"Поставка набора информационных стендов (табли...</td>\n",
              "      <td>44-ФЗ</td>\n",
              "      <td>Закупки малого объема</td>\n",
              "      <td>97754</td>\n",
              "      <td>Оборудование и материалы для рекламы, изготовл...</td>\n",
              "    </tr>\n",
              "  </tbody>\n",
              "</table>\n",
              "</div>"
            ],
            "text/plain": [
              "             Id  ...                                       PurchaseArea\n",
              "4771   50276052  ...  Оборудование и материалы для рекламы, изготовл...\n",
              "13376  49447097  ...  Оборудование и материалы для рекламы, изготовл...\n",
              "17246  49117933  ...  Строительство, ремонт и обслуживание дорог, мо...\n",
              "5066   50260721  ...  Оборудование и материалы для рекламы, изготовл...\n",
              "14872  49337733  ...  Оборудование и материалы для рекламы, изготовл...\n",
              "\n",
              "[5 rows x 6 columns]"
            ]
          },
          "metadata": {
            "tags": []
          },
          "execution_count": 31
        }
      ]
    },
    {
      "cell_type": "markdown",
      "metadata": {
        "id": "7MjUeNNqq1mA"
      },
      "source": [
        "## Шаг 1. Учимся отбирать те записи, у которых подходящая маркировка. То есть нет смешанных классификаторов. Таких записей достаточно много "
      ]
    },
    {
      "cell_type": "code",
      "metadata": {
        "id": "YTHyo31Hq1mB",
        "colab": {
          "base_uri": "https://localhost:8080/",
          "height": 419
        },
        "outputId": "35b7c917-4c93-4c50-8f43-7a7321aa07cb"
      },
      "source": [
        "# наши инструменты для преобразований:\n",
        "\n",
        "# Напрямую обращаемся к колонке (атрибуту), например, берем колонку Name\n",
        "# tenders.Name\n",
        "\n",
        "# посмотреть уникальные значения указанного поля: \n",
        "#tenders[[\"PurchaseArea\"]].drop_duplicates()\n",
        "\n",
        "# взять строку по индексу:  \n",
        "#tenders[[\"PurchaseArea\"]].loc[[0]]\n",
        "\n",
        "# отобрать строки по значению колонки:\n",
        "tenders.loc[tenders[\"PurchaseArea\"] == \"Строительство, ремонт и обслуживание дорог, мостов, тоннелей и ЖД путей\" ]\n",
        "\n",
        "# наши (предполагаемые) целевые тематики:\n",
        "areas = [\n",
        "           \"Строительство, ремонт и обслуживание дорог, мостов, тоннелей и ЖД путей\",\n",
        "           \"Ремонт зданий и сооружений Строительство, ремонт и обслуживание дорог, мостов, тоннелей и ЖД путей\",\n",
        "           \"Оборудование и материалы для рекламы, изготовление и монтаж (кроме полиграфической продукции)\",\n",
        "           \"Готовые металлические изделия, Ограждения, Изделия ковки\",\n",
        "           \"Материалы для строительства дорог, ЖД путей\",\n",
        "           \"Строительство, ремонт и обслуживание дорог, мостов, тоннелей и ЖД путей Благоустройство и озеленение\"          \n",
        "    \n",
        "]\n",
        "# отобрать строки, где целевая колонка имеет значения, входящие в списку:\n",
        "# мы делаем это, чтобы отсеять смешанные классификаторы\n",
        "tenders[[\"Id\", \"Name\", \"TenderType\", \"Placement\", \"StartingPrice\", \"PurchaseArea\"]].loc[tenders[\"PurchaseArea\"].isin(areas)]\n"
      ],
      "execution_count": null,
      "outputs": [
        {
          "output_type": "execute_result",
          "data": {
            "text/html": [
              "<div>\n",
              "<style scoped>\n",
              "    .dataframe tbody tr th:only-of-type {\n",
              "        vertical-align: middle;\n",
              "    }\n",
              "\n",
              "    .dataframe tbody tr th {\n",
              "        vertical-align: top;\n",
              "    }\n",
              "\n",
              "    .dataframe thead th {\n",
              "        text-align: right;\n",
              "    }\n",
              "</style>\n",
              "<table border=\"1\" class=\"dataframe\">\n",
              "  <thead>\n",
              "    <tr style=\"text-align: right;\">\n",
              "      <th></th>\n",
              "      <th>Id</th>\n",
              "      <th>Name</th>\n",
              "      <th>TenderType</th>\n",
              "      <th>Placement</th>\n",
              "      <th>StartingPrice</th>\n",
              "      <th>PurchaseArea</th>\n",
              "    </tr>\n",
              "  </thead>\n",
              "  <tbody>\n",
              "    <tr>\n",
              "      <th>0</th>\n",
              "      <td>50655430</td>\n",
              "      <td>\"Выполнение работ по ремонту автомобильной дор...</td>\n",
              "      <td>44-ФЗ</td>\n",
              "      <td>Конкурсы и аукционы</td>\n",
              "      <td>13774127</td>\n",
              "      <td>Строительство, ремонт и обслуживание дорог, мо...</td>\n",
              "    </tr>\n",
              "    <tr>\n",
              "      <th>1</th>\n",
              "      <td>50653629</td>\n",
              "      <td>\"Поставка рамок алюминиевых для постера в Клин...</td>\n",
              "      <td>44-ФЗ</td>\n",
              "      <td>Закупки малого объема</td>\n",
              "      <td>35000</td>\n",
              "      <td>Оборудование и материалы для рекламы, изготовл...</td>\n",
              "    </tr>\n",
              "    <tr>\n",
              "      <th>2</th>\n",
              "      <td>50655159</td>\n",
              "      <td>\"Ремонт проезда в микрорайоне №11, между домам...</td>\n",
              "      <td>44-ФЗ</td>\n",
              "      <td>Электронные аукционы</td>\n",
              "      <td>900000</td>\n",
              "      <td>Строительство, ремонт и обслуживание дорог, мо...</td>\n",
              "    </tr>\n",
              "    <tr>\n",
              "      <th>3</th>\n",
              "      <td>50655152</td>\n",
              "      <td>\"Выполнение работ по ремонту дороги по ул. Ямк...</td>\n",
              "      <td>44-ФЗ</td>\n",
              "      <td>Электронные аукционы</td>\n",
              "      <td>10814664</td>\n",
              "      <td>Строительство, ремонт и обслуживание дорог, мо...</td>\n",
              "    </tr>\n",
              "    <tr>\n",
              "      <th>4</th>\n",
              "      <td>50644717</td>\n",
              "      <td>\"Поставка вывесок для нужд судов Иркутской обл...</td>\n",
              "      <td>44-ФЗ</td>\n",
              "      <td>Электронные аукционы</td>\n",
              "      <td>136500</td>\n",
              "      <td>Оборудование и материалы для рекламы, изготовл...</td>\n",
              "    </tr>\n",
              "    <tr>\n",
              "      <th>...</th>\n",
              "      <td>...</td>\n",
              "      <td>...</td>\n",
              "      <td>...</td>\n",
              "      <td>...</td>\n",
              "      <td>...</td>\n",
              "      <td>...</td>\n",
              "    </tr>\n",
              "    <tr>\n",
              "      <th>20088</th>\n",
              "      <td>48935404</td>\n",
              "      <td>\"Выполнение работ по объекту: Устройство элеме...</td>\n",
              "      <td>44-ФЗ</td>\n",
              "      <td>Электронные аукционы</td>\n",
              "      <td>38631619</td>\n",
              "      <td>Строительство, ремонт и обслуживание дорог, мо...</td>\n",
              "    </tr>\n",
              "    <tr>\n",
              "      <th>20089</th>\n",
              "      <td>48935757</td>\n",
              "      <td>\"Поставка информационных табличек и стендов, в...</td>\n",
              "      <td>44-ФЗ</td>\n",
              "      <td>Электронные аукционы</td>\n",
              "      <td>91948</td>\n",
              "      <td>Оборудование и материалы для рекламы, изготовл...</td>\n",
              "    </tr>\n",
              "    <tr>\n",
              "      <th>20091</th>\n",
              "      <td>48934612</td>\n",
              "      <td>\"Поставка заграждений автомобильного проезда т...</td>\n",
              "      <td>44-ФЗ</td>\n",
              "      <td>Электронные аукционы</td>\n",
              "      <td>659885</td>\n",
              "      <td>Готовые металлические изделия, Ограждения, Изд...</td>\n",
              "    </tr>\n",
              "    <tr>\n",
              "      <th>20096</th>\n",
              "      <td>48935993</td>\n",
              "      <td>\"Поставка светодиодного экрана\"</td>\n",
              "      <td>44-ФЗ</td>\n",
              "      <td>Электронные аукционы</td>\n",
              "      <td>1850000</td>\n",
              "      <td>Оборудование и материалы для рекламы, изготовл...</td>\n",
              "    </tr>\n",
              "    <tr>\n",
              "      <th>20097</th>\n",
              "      <td>48920699</td>\n",
              "      <td>\"Выполнение работ по техническому обслуживанию...</td>\n",
              "      <td>44-ФЗ</td>\n",
              "      <td>Электронные аукционы</td>\n",
              "      <td>2998970</td>\n",
              "      <td>Строительство, ремонт и обслуживание дорог, мо...</td>\n",
              "    </tr>\n",
              "  </tbody>\n",
              "</table>\n",
              "<p>11175 rows × 6 columns</p>\n",
              "</div>"
            ],
            "text/plain": [
              "             Id  ...                                       PurchaseArea\n",
              "0      50655430  ...  Строительство, ремонт и обслуживание дорог, мо...\n",
              "1      50653629  ...  Оборудование и материалы для рекламы, изготовл...\n",
              "2      50655159  ...  Строительство, ремонт и обслуживание дорог, мо...\n",
              "3      50655152  ...  Строительство, ремонт и обслуживание дорог, мо...\n",
              "4      50644717  ...  Оборудование и материалы для рекламы, изготовл...\n",
              "...         ...  ...                                                ...\n",
              "20088  48935404  ...  Строительство, ремонт и обслуживание дорог, мо...\n",
              "20089  48935757  ...  Оборудование и материалы для рекламы, изготовл...\n",
              "20091  48934612  ...  Готовые металлические изделия, Ограждения, Изд...\n",
              "20096  48935993  ...  Оборудование и материалы для рекламы, изготовл...\n",
              "20097  48920699  ...  Строительство, ремонт и обслуживание дорог, мо...\n",
              "\n",
              "[11175 rows x 6 columns]"
            ]
          },
          "metadata": {
            "tags": []
          },
          "execution_count": 32
        }
      ]
    },
    {
      "cell_type": "markdown",
      "metadata": {
        "id": "9yPFliEMq1mB"
      },
      "source": [
        "## Шаг 3. Готовим итоговый датасет для подачи в модель "
      ]
    },
    {
      "cell_type": "code",
      "metadata": {
        "id": "nM6lWzAWq1mB",
        "colab": {
          "base_uri": "https://localhost:8080/"
        },
        "outputId": "515b5fdb-b6b3-40b2-9a86-1da3ab83413e"
      },
      "source": [
        "# Делим на обучающее и тестовое множества\n",
        "\n",
        "import numpy as np\n",
        "\n",
        "# отбираем два поля в анализ, фильтруем интересные нам тематики\n",
        "\n",
        "analyzed_tenders = tenders[[\"Name\", \"PurchaseArea\"]].loc[tenders[\"PurchaseArea\"].isin(areas)]\n",
        "\n",
        "# генерируем массив случайных чисел от 0.0 до 1.0 длиной с наш датасет.\n",
        "\n",
        "msk = np.random.rand(len(analyzed_tenders)) < 0.8\n",
        "\n",
        "# делим датасет на два куска: число до 0.8 - обучающее, число 0.8 и выше - тренировочное множество.\n",
        "\n",
        "tenders_train = analyzed_tenders[msk]\n",
        "tenders_test = analyzed_tenders[~msk]\n",
        "\n",
        "from sklearn.preprocessing import LabelEncoder\n",
        "\n",
        "label = LabelEncoder()\n",
        "\n",
        "dicts = {}\n",
        "\n",
        "label.fit(tenders_train.PurchaseArea.drop_duplicates())\n",
        "\n",
        "train_source_array = tenders_train.Name.apply(lambda Name: np.array(list(Name.split(' '))))\n",
        "\n",
        "# Мы векторизуем текстовое поле с названием:\n",
        "# - составляем словарь всех слов во всех строках датасета. \n",
        "# - получаем разреженную матрицу размерности M x N (M - число записей, N-число слов)  \n",
        "#   где для каждого документа стоит 1, если слово встречается и 0, если слова нет. \n",
        "\n",
        "from sklearn.feature_extraction.text import CountVectorizer\n",
        "\n",
        "count_vect = CountVectorizer()\n",
        "X_tenders_count = count_vect.fit_transform(tenders_train.Name)\n",
        "\n",
        "X_tenders_count.shape\n",
        "\n",
        "# Далее, мы конвертируем матрицу встречаемости в метрику  TF-IDF\n",
        "# Таким образом мы часто встречающимся по документам словам низкий балл\n",
        "# а характеристичным (они связаны с темой, указанной в маркировке) - высокий балл\n",
        "\n",
        "from sklearn.feature_extraction.text import TfidfTransformer\n",
        "tfidf_transformer = TfidfTransformer()\n",
        "\n",
        "tenders_train_tfidf = tfidf_transformer.fit_transform(X_tenders_count)\n",
        "\n",
        "# Оценим, что у нас получается: Число строк (документов) и число слов в словаре (число значений TF-IDF)\n",
        "print(tenders_train_tfidf.shape)\n",
        "\n"
      ],
      "execution_count": null,
      "outputs": [
        {
          "output_type": "stream",
          "text": [
            "(8914, 14635)\n"
          ],
          "name": "stdout"
        }
      ]
    },
    {
      "cell_type": "markdown",
      "metadata": {
        "id": "JjGipsAxq1mC"
      },
      "source": [
        "## Шаг 4. Тренируем модели."
      ]
    },
    {
      "cell_type": "code",
      "metadata": {
        "id": "skj-7u_8q1mC",
        "colab": {
          "base_uri": "https://localhost:8080/"
        },
        "outputId": "b96ceb8c-27a1-4996-8df1-406d0aa82fae"
      },
      "source": [
        "import numpy as np\n",
        "from sklearn.pipeline import Pipeline\n",
        "from sklearn.linear_model import SGDClassifier\n",
        "\n",
        "tenders_clf_svm = Pipeline([('vect', CountVectorizer()),\n",
        "                         ('tfidf', TfidfTransformer()),\n",
        "                         ('clf-svm', SGDClassifier(loss='hinge', penalty='l2',\n",
        "                             alpha=1e-3, max_iter=10, tol=0.2, random_state=42)),\n",
        "                        ])\n",
        "_ = tenders_clf_svm.fit(tenders_train.Name, tenders_train.PurchaseArea)\n",
        "predicted_svm = tenders_clf_svm.predict(tenders_test.PurchaseArea)\n",
        "np.mean(predicted_svm == tenders_test.PurchaseArea)\n",
        "\n"
      ],
      "execution_count": null,
      "outputs": [
        {
          "output_type": "execute_result",
          "data": {
            "text/plain": [
              "0.8894865525672372"
            ]
          },
          "metadata": {
            "tags": []
          },
          "execution_count": 7
        }
      ]
    },
    {
      "cell_type": "code",
      "metadata": {
        "colab": {
          "base_uri": "https://localhost:8080/"
        },
        "id": "wU7HK8lVZvuj",
        "outputId": "a3eff2b9-e3cf-49e0-8e76-5cf4077690b5"
      },
      "source": [
        "from sklearn.ensemble import RandomForestClassifier\r\n",
        "from sklearn.datasets import make_classification\r\n",
        "from sklearn.metrics import accuracy_score\r\n",
        "\r\n",
        "clf = RandomForestClassifier( random_state=42)\r\n",
        "\r\n",
        "tenders_clf_rf = Pipeline([('vect', CountVectorizer()),\r\n",
        "                         ('tfidf', TfidfTransformer()),\r\n",
        "                         ('clf-rf',clf)])\r\n",
        "\r\n",
        "_ = tenders_clf_rf.fit(tenders_train.Name, tenders_train.PurchaseArea)\r\n",
        "predicted_rf = tenders_clf_rf.predict(tenders_test.PurchaseArea)\r\n",
        "np.mean(predicted_rf == tenders_test.PurchaseArea)"
      ],
      "execution_count": null,
      "outputs": [
        {
          "output_type": "execute_result",
          "data": {
            "text/plain": [
              "0.8911985846970367"
            ]
          },
          "metadata": {
            "tags": []
          },
          "execution_count": 39
        }
      ]
    },
    {
      "cell_type": "code",
      "metadata": {
        "colab": {
          "base_uri": "https://localhost:8080/"
        },
        "id": "3JWK5v4rah1q",
        "outputId": "bae9a2c4-39e7-4305-8f06-b29b8ee7ead2"
      },
      "source": [
        "from sklearn.ensemble import RandomForestClassifier\r\n",
        "from sklearn.datasets import make_classification\r\n",
        "from sklearn.model_selection import GridSearchCV\r\n",
        "\r\n",
        "clf2 = RandomForestClassifier(random_state=42)\r\n",
        "\r\n",
        "tenders_clf_rf2 = Pipeline([('vect', CountVectorizer()),\r\n",
        "                         ('tfidf', TfidfTransformer()),\r\n",
        "                         ('clf-rf',clf2)])\r\n",
        "\r\n",
        "parameters = { 'clf-rf__n_estimators': [10,20,50,100,100,200, 500],\r\n",
        "    'clf-rf__max_features': ['auto', 'sqrt', 'log2'],\r\n",
        "    'clf-rf__max_depth' : [4,5,6,7,8,None],\r\n",
        "    'clf-rf__criterion' :['gini', 'entropy']}\r\n",
        "\r\n",
        "gs = GridSearchCV(tenders_clf_rf2, parameters, cv=2, n_jobs=-1, scoring='accuracy')\r\n",
        "gs.fit(tenders_train.Name, tenders_train.PurchaseArea)\r\n",
        "gs.best_score_"
      ],
      "execution_count": null,
      "outputs": [
        {
          "output_type": "execute_result",
          "data": {
            "text/plain": [
              "0.9335876149876599"
            ]
          },
          "metadata": {
            "tags": []
          },
          "execution_count": 66
        }
      ]
    },
    {
      "cell_type": "markdown",
      "metadata": {
        "id": "zpNGSu9mq1mC"
      },
      "source": [
        "## Шаг 5. Сохраняем обученную модель в нужные форматы данных и тестируем!"
      ]
    },
    {
      "cell_type": "markdown",
      "metadata": {
        "id": "yvNRinYTHt_y"
      },
      "source": [
        "## Pickle"
      ]
    },
    {
      "cell_type": "code",
      "metadata": {
        "colab": {
          "base_uri": "https://localhost:8080/"
        },
        "id": "iPWfG19gHxmU",
        "outputId": "03c2c6a4-5b88-4bd9-ded8-b4648722f59c"
      },
      "source": [
        "import pickle\r\n",
        "ss = pickle.dumps(gs.best_estimator_)\r\n",
        "\r\n",
        "#Сохраняем файл\r\n",
        "with open('/content/rf.pkl', 'wb') as pkl_file:\r\n",
        "    p1 = pickle.dump(ss,pkl_file)\r\n",
        "\r\n",
        "# Загружаем сохраненный файл\r\n",
        "with open('/content/rf.pkl', 'rb') as pkl_file:\r\n",
        "    p1 = pickle.load(pkl_file)\r\n",
        "pipe_from_bytes = pickle.loads(p1)\r\n",
        "\r\n",
        "# Прогноз\r\n",
        "pipe_from_bytes.predict(tenders_test.loc[7:17,'Name'])"
      ],
      "execution_count": null,
      "outputs": [
        {
          "output_type": "execute_result",
          "data": {
            "text/plain": [
              "array(['Оборудование и материалы для рекламы, изготовление и монтаж (кроме полиграфической продукции)'],\n",
              "      dtype=object)"
            ]
          },
          "metadata": {
            "tags": []
          },
          "execution_count": 68
        }
      ]
    },
    {
      "cell_type": "markdown",
      "metadata": {
        "id": "FerZXym5Hz8R"
      },
      "source": [
        "## Joblib"
      ]
    },
    {
      "cell_type": "code",
      "metadata": {
        "colab": {
          "base_uri": "https://localhost:8080/"
        },
        "id": "J7nn-5BUhzyd",
        "outputId": "05d90ffd-1d82-4ee7-a4ee-78de649b3c51"
      },
      "source": [
        "## joblib\r\n",
        "from joblib import dump, load\r\n",
        "#Сохраняем файл\r\n",
        "dump(gs.best_estimator_, 'rf_joblib.joblib') \r\n",
        "# Загружаем сохраненный файл\r\n",
        "rf_joblib = load('/content/rf_joblib.joblib') \r\n",
        "# Прогноз\r\n",
        "rf_joblib.predict(tenders_test.loc[7:17,'Name'])"
      ],
      "execution_count": null,
      "outputs": [
        {
          "output_type": "execute_result",
          "data": {
            "text/plain": [
              "array(['Оборудование и материалы для рекламы, изготовление и монтаж (кроме полиграфической продукции)'],\n",
              "      dtype=object)"
            ]
          },
          "metadata": {
            "tags": []
          },
          "execution_count": 70
        }
      ]
    },
    {
      "cell_type": "markdown",
      "metadata": {
        "id": "eAgtDi4aH5RP"
      },
      "source": [
        "## ONNX"
      ]
    },
    {
      "cell_type": "code",
      "metadata": {
        "colab": {
          "base_uri": "https://localhost:8080/"
        },
        "id": "tHHkFNPciwqF",
        "outputId": "14121bfc-0d62-44ad-f28e-88256dcd0392"
      },
      "source": [
        "!pip install skl2onnx"
      ],
      "execution_count": null,
      "outputs": [
        {
          "output_type": "stream",
          "text": [
            "Collecting skl2onnx\n",
            "\u001b[?25l  Downloading https://files.pythonhosted.org/packages/8a/41/47cb3c420d3a1d0a1ad38ef636ac2d4929c938c2f209582bcf3b33440b1a/skl2onnx-1.7.0-py2.py3-none-any.whl (191kB)\n",
            "\r\u001b[K     |█▊                              | 10kB 14.9MB/s eta 0:00:01\r\u001b[K     |███▍                            | 20kB 11.3MB/s eta 0:00:01\r\u001b[K     |█████▏                          | 30kB 8.2MB/s eta 0:00:01\r\u001b[K     |██████▉                         | 40kB 7.2MB/s eta 0:00:01\r\u001b[K     |████████▌                       | 51kB 4.5MB/s eta 0:00:01\r\u001b[K     |██████████▎                     | 61kB 4.9MB/s eta 0:00:01\r\u001b[K     |████████████                    | 71kB 5.0MB/s eta 0:00:01\r\u001b[K     |█████████████▋                  | 81kB 5.2MB/s eta 0:00:01\r\u001b[K     |███████████████▍                | 92kB 5.1MB/s eta 0:00:01\r\u001b[K     |█████████████████               | 102kB 5.2MB/s eta 0:00:01\r\u001b[K     |██████████████████▉             | 112kB 5.2MB/s eta 0:00:01\r\u001b[K     |████████████████████▌           | 122kB 5.2MB/s eta 0:00:01\r\u001b[K     |██████████████████████▏         | 133kB 5.2MB/s eta 0:00:01\r\u001b[K     |████████████████████████        | 143kB 5.2MB/s eta 0:00:01\r\u001b[K     |█████████████████████████▋      | 153kB 5.2MB/s eta 0:00:01\r\u001b[K     |███████████████████████████▎    | 163kB 5.2MB/s eta 0:00:01\r\u001b[K     |█████████████████████████████   | 174kB 5.2MB/s eta 0:00:01\r\u001b[K     |██████████████████████████████▊ | 184kB 5.2MB/s eta 0:00:01\r\u001b[K     |████████████████████████████████| 194kB 5.2MB/s \n",
            "\u001b[?25hRequirement already satisfied: protobuf in /usr/local/lib/python3.6/dist-packages (from skl2onnx) (3.12.4)\n",
            "Collecting onnx>=1.2.1\n",
            "\u001b[?25l  Downloading https://files.pythonhosted.org/packages/f1/db/608877fea324c3a44aaa50dbcb23ff5b7e3d222a7c5511c19d1651db512e/onnx-1.8.1-cp36-cp36m-manylinux2010_x86_64.whl (14.5MB)\n",
            "\u001b[K     |████████████████████████████████| 14.5MB 309kB/s \n",
            "\u001b[?25hRequirement already satisfied: scikit-learn>=0.19 in /usr/local/lib/python3.6/dist-packages (from skl2onnx) (0.22.2.post1)\n",
            "Requirement already satisfied: scipy>=1.0 in /usr/local/lib/python3.6/dist-packages (from skl2onnx) (1.4.1)\n",
            "Requirement already satisfied: six in /usr/local/lib/python3.6/dist-packages (from skl2onnx) (1.15.0)\n",
            "Collecting onnxconverter-common>=1.5.1\n",
            "\u001b[?25l  Downloading https://files.pythonhosted.org/packages/fe/7a/7e30c643cd7d2ad87689188ef34ce93e657bd14da3605f87bcdbc19cd5b1/onnxconverter_common-1.7.0-py2.py3-none-any.whl (64kB)\n",
            "\u001b[K     |████████████████████████████████| 71kB 8.1MB/s \n",
            "\u001b[?25hRequirement already satisfied: numpy>=1.15 in /usr/local/lib/python3.6/dist-packages (from skl2onnx) (1.19.5)\n",
            "Requirement already satisfied: setuptools in /usr/local/lib/python3.6/dist-packages (from protobuf->skl2onnx) (53.0.0)\n",
            "Requirement already satisfied: typing-extensions>=3.6.2.1 in /usr/local/lib/python3.6/dist-packages (from onnx>=1.2.1->skl2onnx) (3.7.4.3)\n",
            "Requirement already satisfied: joblib>=0.11 in /usr/local/lib/python3.6/dist-packages (from scikit-learn>=0.19->skl2onnx) (1.0.0)\n",
            "Installing collected packages: onnx, onnxconverter-common, skl2onnx\n",
            "Successfully installed onnx-1.8.1 onnxconverter-common-1.7.0 skl2onnx-1.7.0\n"
          ],
          "name": "stdout"
        }
      ]
    },
    {
      "cell_type": "code",
      "metadata": {
        "colab": {
          "base_uri": "https://localhost:8080/"
        },
        "id": "EIVwVJpYiHgA",
        "outputId": "92094799-517c-4d44-ab51-69d24b8473e3"
      },
      "source": [
        "# import onnxruntime as rt\r\n",
        "from skl2onnx import convert_sklearn\r\n",
        "from skl2onnx.common.data_types import StringTensorType\r\n",
        "\r\n",
        "initial_type = [('input', StringTensorType([None, 1]))]\r\n",
        "model_onnx = convert_sklearn(gs.best_estimator_, initial_types=initial_type)\r\n",
        "\r\n",
        "with open(\"rf.onnx\", \"wb\") as f:\r\n",
        "    f.write(model_onnx.SerializeToString())\r\n",
        "\r\n"
      ],
      "execution_count": null,
      "outputs": [
        {
          "output_type": "stream",
          "text": [
            "/usr/local/lib/python3.6/dist-packages/skl2onnx/operator_converters/text_vectoriser.py:179: UserWarning: Converter for TfidfVectorizer will use scikit-learn regular expression by default in version 1.6.\n",
            "  UserWarning)\n",
            "/usr/local/lib/python3.6/dist-packages/skl2onnx/common/_container.py:569: UserWarning: Unable to find operator 'Tokenizer' in domain 'com.microsoft' in ONNX, op_version is forced to 1.\n",
            "  op_type, domain))\n"
          ],
          "name": "stderr"
        }
      ]
    },
    {
      "cell_type": "code",
      "metadata": {
        "colab": {
          "base_uri": "https://localhost:8080/"
        },
        "id": "GzKOVWasIAaJ",
        "outputId": "5c9ef91e-590e-46b8-8ee1-4652128bdd7f"
      },
      "source": [
        "import onnxruntime as rt\r\n",
        "import numpy\r\n",
        "\r\n",
        "sess = rt.InferenceSession(\"/content/rf.onnx\")\r\n",
        "input_name = sess.get_inputs()[0].name\r\n",
        "label_name = sess.get_outputs()[0].name\r\n",
        "pred_onx = sess.run( [label_name], {input_name: np.array(tenders_test.loc[7:17,'Name']).reshape(-1,1)})\r\n",
        "print(pred_onx)"
      ],
      "execution_count": null,
      "outputs": [
        {
          "output_type": "stream",
          "text": [
            "[array(['Оборудование и материалы для рекламы, изготовление и монтаж (кроме полиграфической продукции)'],\n",
            "      dtype=object)]\n"
          ],
          "name": "stdout"
        }
      ]
    },
    {
      "cell_type": "code",
      "metadata": {
        "id": "PMbu1vgDq1mC"
      },
      "source": [
        "# Примеры выгрузки в файл. \n",
        "# Сохраняем модель в файл Model_N.тип где N - номер вашей группы, а тип = Pickle, joblib, onnx\n",
        "# работу ведите в отдельной ячейке, создайте за этой!\n",
        "\n",
        "## ниже примеры из лекции:\n",
        "\n",
        "## Pickle\n",
        "\n",
        "from sklearn import svm\n",
        "from sklearn import datasets\n",
        "\n",
        "clf = svm.SVC()\n",
        "X, y= datasets.load_iris(return_X_y=True)\n",
        "clf.fit(X, y)\n",
        "\n",
        "import pickle\n",
        "s = pickle.dumps(clf)\n",
        "## добавьте сохранение в файл этого объекта!\n",
        "clf_p = pickle.loads(s)\n",
        "clf_p.predict(X[0:1])\n",
        "y[0]\n",
        "\n",
        "ss = pickle.dumps(tenders_clf_rf)\n",
        "\n",
        "with open('hw2.pkl', 'wb') as pkl_file:\n",
        "    p1 = pickle.dump(mydict,pkl_file)\n",
        "\n",
        "\n",
        "## joblib\n",
        "from joblib import dump, load\n",
        "\n",
        "dump(clf, 'filename.joblib')\n",
        "\n",
        "clf_j = load('filename.joblib') \n",
        "\n",
        "clf_j.predict(X[0:1])\n",
        "y[0]\n",
        "\n",
        "## ONNX \n",
        "\n",
        "rom sklearn.datasets import load_iris\n",
        "from sklearn.model_selection import train_test_split\n",
        "from sklearn.ensemble import RandomForestClassifier\n",
        "iris = load_iris()\n",
        "X, y = iris.data, iris.target\n",
        "X_train, X_test, y_train, y_test = train_test_split(X, y)\n",
        "clr = RandomForestClassifier()\n",
        "clr.fit(X_train, y_train)\n",
        "\n",
        "\n",
        "from skl2onnx import convert_sklearn\n",
        "from skl2onnx.common.data_types import FloatTensorType\n",
        "initial_type = [('float_input', FloatTensorType([None, 4]))]\n",
        "onx = convert_sklearn(clr, initial_types=initial_type)\n",
        "with open(\"rf_iris.onnx\", \"wb\") as f:\n",
        "    f.write(onx.SerializeToString())\n",
        "\n",
        "\n",
        "import onnxruntime as rt\n",
        "import numpy\n",
        "sess = rt.InferenceSession(\"rf_iris.onnx\")\n",
        "input_name = sess.get_inputs()[0].name\n",
        "label_name = sess.get_outputs()[0].name\n",
        "pred_onx = sess.run([label_name], {input_name: X_test.astype(numpy.float32)})[0]\n",
        "\n"
      ],
      "execution_count": null,
      "outputs": []
    },
    {
      "cell_type": "code",
      "metadata": {
        "id": "rAePY0oQq1mD"
      },
      "source": [
        "## Шаг 6. Загружаем полученную модель и проверяем ее. На тестовых данных.\n",
        "## ниже примеры из лекции:\n",
        "\n",
        "## используйте пример из лекции и загрузите последовательно "
      ],
      "execution_count": null,
      "outputs": []
    }
  ]
}