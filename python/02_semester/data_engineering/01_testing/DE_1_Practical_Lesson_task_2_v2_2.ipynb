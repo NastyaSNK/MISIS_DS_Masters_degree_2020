{
  "nbformat": 4,
  "nbformat_minor": 0,
  "metadata": {
    "kernelspec": {
      "display_name": "Python 3",
      "language": "python",
      "name": "python3"
    },
    "language_info": {
      "codemirror_mode": {
        "name": "ipython",
        "version": 3
      },
      "file_extension": ".py",
      "mimetype": "text/x-python",
      "name": "python",
      "nbconvert_exporter": "python",
      "pygments_lexer": "ipython3",
      "version": "3.7.4"
    },
    "colab": {
      "name": "DE_1_Practical_Lesson_task_2 v2.2.ipynb",
      "provenance": []
    }
  },
  "cells": [
    {
      "cell_type": "markdown",
      "metadata": {
        "id": "AfnnJVmSxkiC"
      },
      "source": [
        "# Практическая задача 2. Написание UNIT - тестов по коду.\n",
        "### Что надо сделать: напишите UNIT-тесты по приведенному ниже коду. Это можно сделать прямо в приведенном ниже фрагменте.\n",
        "\n",
        "## Что надо проверять в UNIT тестах:\n",
        "\n",
        "### 1. Что вычисления у нас корректно работают: мы получаем ожидаемое значение.\n",
        "### 2. Правильность значений в массивах по определенному индексу. Оцениваем значение.\n",
        "### 3. Корректность условных переходов и подобных конструкций. Мы должны убедиться, что при нужном условии мы попадаем в нужную ветку IF... ELSE и тому подобных конструкций\n",
        "\n",
        "## ВНИМАНИЕ! Убедитесь, что библиотека unittest установлена. Ниже - тестовый пример, как это делается."
      ]
    },
    {
      "cell_type": "code",
      "metadata": {
        "id": "Hq4qJWH7xkiC",
        "outputId": "cd3d3cbb-12fe-4067-8750-c00a81afe01b"
      },
      "source": [
        "import unittest\n",
        "\n",
        "class TestStringMethods(unittest.TestCase):\n",
        "\n",
        "    def test_upper(self):\n",
        "        #self.assertEqual('foo'.upper(), 'FOO')\n",
        "        # намеренно завалим один тест:\n",
        "        self.assertEqual('foo', 'FOO')\n",
        "        \n",
        "    def test_isupper(self):\n",
        "        self.assertTrue('FOO'.isupper())\n",
        "        self.assertFalse('foo'.isupper())\n",
        "\n",
        "    def test_split(self):\n",
        "        s = 'hello world'\n",
        "        self.assertEqual(s.split(), ['hello', 'world'])\n",
        "        # check that s.split fails when the separator is not a string\n",
        "        with self.assertRaises(TypeError):\n",
        "            s.split(2)\n",
        "    def main():\n",
        "        unittest.main()\n",
        "\n",
        "#   Обратите внимание! Фрагмент ниже - используется только для Jupyter!\n",
        "#   В командной строке он бы был таким\n",
        "#\n",
        "#   if __name__ == '__main__':\n",
        "#        unittest.main()\n",
        "#\n",
        "#   у нас нет доступа к аргументам командной строки, поэтому стандартны вариант вылетел бы с исключением.\n",
        "#   Для Jupyter мы обходим эту ошибку\n",
        "\n",
        "if __name__ == '__main__':\n",
        "    unittest.main(argv=['first-arg-is-ignored'], exit=False)"
      ],
      "execution_count": null,
      "outputs": [
        {
          "output_type": "stream",
          "text": [
            "..F\n",
            "======================================================================\n",
            "FAIL: test_upper (__main__.TestStringMethods)\n",
            "----------------------------------------------------------------------\n",
            "Traceback (most recent call last):\n",
            "  File \"<ipython-input-1-b22ac753d546>\", line 8, in test_upper\n",
            "    self.assertEqual('foo', 'FOO')\n",
            "AssertionError: 'foo' != 'FOO'\n",
            "- foo\n",
            "+ FOO\n",
            "\n",
            "\n",
            "----------------------------------------------------------------------\n",
            "Ran 3 tests in 0.008s\n",
            "\n",
            "FAILED (failures=1)\n"
          ],
          "name": "stderr"
        }
      ]
    },
    {
      "cell_type": "markdown",
      "metadata": {
        "id": "GO76PTgexkiC"
      },
      "source": [
        "#Вот класс, к которому мы хотим написать UNIT-тесты. Допишите их по образцу выше и поясните, почему вы выбрали реализацию именно этих тестов?"
      ]
    },
    {
      "cell_type": "code",
      "metadata": {
        "colab": {
          "base_uri": "https://localhost:8080/"
        },
        "id": "m-ddMMjBtSpI",
        "outputId": "d31d7647-1bc3-463f-d3c0-ed9a2a574fe8"
      },
      "source": [
        "!pip install unittest"
      ],
      "execution_count": 6,
      "outputs": [
        {
          "output_type": "stream",
          "text": [
            "\u001b[31mERROR: Could not find a version that satisfies the requirement unittest (from versions: none)\u001b[0m\n",
            "\u001b[31mERROR: No matching distribution found for unittest\u001b[0m\n"
          ],
          "name": "stdout"
        }
      ]
    },
    {
      "cell_type": "code",
      "metadata": {
        "id": "kPACqQHOxkiD",
        "colab": {
          "base_uri": "https://localhost:8080/"
        },
        "outputId": "0656cd99-ba3f-4461-c0cb-01b0ba6f2bd3"
      },
      "source": [
        "import unittest\n",
        "\n",
        "class Person:\n",
        "    def __init__(self, name,\n",
        "                 mobile_phone=None, office_phone=None,\n",
        "                 private_phone=None, email=None):\n",
        "        self.name = name\n",
        "        self.mobile = mobile_phone\n",
        "        self.office = office_phone\n",
        "        self.private = private_phone\n",
        "        self.email = email\n",
        "\n",
        "    def add_mobile_phone(self, number):\n",
        "        self.mobile = number\n",
        "\n",
        "    def add_office_phone(self, number):\n",
        "        self.office = number\n",
        "\n",
        "    def add_private_phone(self, number):\n",
        "        self.private = number\n",
        "\n",
        "    def add_email(self, address):\n",
        "        self.email = address\n",
        "\n",
        "    def test_isupper(self):\n",
        "      self.assertTrue('FOO'.isupper())\n",
        "      self.assertFalse('foo'.isupper())\n",
        "      \n",
        "P = Person(name='BBB')\n",
        "P.add_mobile_phone(number=8)\n",
        "\n",
        "class PersonTest(unittest.TestCase):\n",
        "\n",
        "    # шаблон для написания unit-тестов\n",
        "    # def test_something(self):\n",
        "    #   self.assertEqual('someValue', Person.somevalue)\n",
        "\n",
        "      def test_something(self):\n",
        "          self.assertEqual(89, P.mobile)\n",
        "\n",
        "      # def test_something2(self):\n",
        "      #     self.assertEqual(89, P.mobile)\n",
        "      \n",
        "\n",
        "      def main():\n",
        "          unittest.main()\n",
        "\n",
        "if __name__ == '__main__':\n",
        "    unittest.main(argv=['first-arg-is-ignored'], exit=False)"
      ],
      "execution_count": 20,
      "outputs": [
        {
          "output_type": "stream",
          "text": [
            "F\n",
            "======================================================================\n",
            "FAIL: test_something (__main__.PersonTest)\n",
            "----------------------------------------------------------------------\n",
            "Traceback (most recent call last):\n",
            "  File \"<ipython-input-20-4d22d884edb8>\", line 39, in test_something\n",
            "    self.assertEqual(89, P.mobile)\n",
            "AssertionError: 89 != 8\n",
            "\n",
            "----------------------------------------------------------------------\n",
            "Ran 1 test in 0.001s\n",
            "\n",
            "FAILED (failures=1)\n"
          ],
          "name": "stderr"
        }
      ]
    }
  ]
}